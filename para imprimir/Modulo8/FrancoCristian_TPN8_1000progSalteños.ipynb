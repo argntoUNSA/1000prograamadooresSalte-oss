{
  "nbformat": 4,
  "nbformat_minor": 0,
  "metadata": {
    "colab": {
      "name": "FrancoCristian-TPN8-1000progSalteños.ipynb",
      "provenance": [],
      "collapsed_sections": []
    },
    "kernelspec": {
      "name": "python3",
      "display_name": "Python 3"
    },
    "language_info": {
      "name": "python"
    }
  },
  "cells": [
    {
      "cell_type": "markdown",
      "metadata": {
        "id": "zufyBhPe8j9B"
      },
      "source": [
        "\n",
        "Ejercicio 1: Crear las siguientes funciones (el archivo estará en tu google drive):\n",
        "\n",
        " ● Crear archivo de texto\n",
        "\n",
        " ● Abrir y mostrar contenido de archivo de texto\n",
        "\n",
        " ● Guardar datos en archivo de texto."
      ]
    },
    {
      "cell_type": "code",
      "metadata": {
        "id": "tRZW0TfN8JLf",
        "colab": {
          "base_uri": "https://localhost:8080/"
        },
        "outputId": "9da6313e-ee96-45e0-f7e1-f91e0a25df41"
      },
      "source": [
        "#Definicion\n",
        "from io import open\n",
        "\n",
        "def crea_archivo(ruta=\"Nuevo_archivo.txt\",contenido=\"\"):\n",
        "  archivo=open(ruta,\"w\")\n",
        "  archivo.write(contenido)\n",
        "  archivo.close()\n",
        "  \n",
        "def abre_muestra_archivo(ruta=\"\"):\n",
        "  try:\n",
        "    if ruta!=\"\":\n",
        "      archivo=open(ruta,\"r\")\n",
        "      contenido=archivo.readlines()\n",
        "      print(\"Contenido: \")\n",
        "      for linea in contenido:\n",
        "        print(linea)\n",
        "    else:\n",
        "      print(\"No se ingreso ruta\")\n",
        "  except FileNotFoundError:\n",
        "    print(\"Error al abrir y mostrar\")\n",
        "  \n",
        "\n",
        "def guarda_datos(ruta,nuevo=\"\"):\n",
        "  archivo_almacenado=open(ruta,\"r+\")\n",
        "  #almacenado=\n",
        "  archivo_almacenado.read()\n",
        "  #archivo_almacenado.seek(0)\n",
        "  archivo_almacenado.write(nuevo)\n",
        "  archivo_almacenado.close()\n",
        "\n",
        "#Implementcacion\n",
        "try:\n",
        "  ruta=\"/content/drive/MyDrive/1000ProgSalteños/TPN8/Ejercicio1/\"\n",
        "  ruta+=input(\"Ingrese nombre del nuevo archivo: \")\n",
        "  texto=input(\"Ingrese el contenido del archivo: \")\n",
        "  print(\"Crea archivo:\\n\")\n",
        "  crea_archivo(ruta,texto)\n",
        "\n",
        "  print(\"\\nAbre y Muestra archivo:\\n\")\n",
        "  abre_muestra_archivo(ruta)\n",
        "\n",
        "  print(\"\\nCarga nuevos datos al archivo\")\n",
        "  texto=input(\"Ingrese el contenido a agregar: \")\n",
        "  guarda_datos(ruta,texto)\n",
        "\n",
        "  print(\"\\nAbre y Muestra archivo modificado:\\n\")\n",
        "  abre_muestra_archivo(ruta)\n",
        "except FileNotFoundError:\n",
        "  print(\"Error al ejecutar el programa\")"
      ],
      "execution_count": null,
      "outputs": [
        {
          "output_type": "stream",
          "name": "stdout",
          "text": [
            "Ingrese nombre del nuevo archivo: Ejercicio1.txt\n",
            "Ingrese el contenido del archivo: Lorem Ipsum is simply dummy text of the printing and typesetting industry. Lorem Ipsum has been the industry's standard dummy text ever since the 1500s, when an unknown printer took a galley of type and scrambled it to make a type specimen book. It has survived not only five centuries, but also the leap into electronic typesetting, remaining essentially unchanged. It was popularised in the 1960s with the release of Letraset sheets containing Lorem Ipsum passages, and more recently with desktop publishing software like Aldus PageMaker including versions of Lorem Ipsum.\n",
            "Crea archivo:\n",
            "\n",
            "\n",
            "Abre y Muestra archivo:\n",
            "\n",
            "Contenido: \n",
            "Lorem Ipsum is simply dummy text of the printing and typesetting industry. Lorem Ipsum has been the industry's standard dummy text ever since the 1500s, when an unknown printer took a galley of type and scrambled it to make a type specimen book. It has survived not only five centuries, but also the leap into electronic typesetting, remaining essentially unchanged. It was popularised in the 1960s with the release of Letraset sheets containing Lorem Ipsum passages, and more recently with desktop publishing software like Aldus PageMaker including versions of Lorem Ipsum.\n",
            "\n",
            "Carga nuevos datos al archivo\n",
            "Ingrese el contenido a agregar:  Franco Cristian\n",
            "\n",
            "Abre y Muestra archivo modificado:\n",
            "\n",
            "Contenido: \n",
            "Lorem Ipsum is simply dummy text of the printing and typesetting industry. Lorem Ipsum has been the industry's standard dummy text ever since the 1500s, when an unknown printer took a galley of type and scrambled it to make a type specimen book. It has survived not only five centuries, but also the leap into electronic typesetting, remaining essentially unchanged. It was popularised in the 1960s with the release of Letraset sheets containing Lorem Ipsum passages, and more recently with desktop publishing software like Aldus PageMaker including versions of Lorem Ipsum. Franco Cristian\n"
          ]
        }
      ]
    },
    {
      "cell_type": "markdown",
      "metadata": {
        "id": "52bfKLAlMFwm"
      },
      "source": [
        "Ejercicio 2: Crear un programa que lea una lista de personas, cuyos datos son DNI, Apellido y Nombre contenidos en un archivo csv, los liste en orden alfabético y muestre el resultado del ordenamiento."
      ]
    },
    {
      "cell_type": "code",
      "metadata": {
        "id": "D6Poc3wgMHSX",
        "colab": {
          "base_uri": "https://localhost:8080/"
        },
        "outputId": "fb2e9ac9-5b29-4159-8842-feb78f3e9652"
      },
      "source": [
        "#Definicion\n",
        "import csv\n",
        "import operator\n",
        "\n",
        "def abrir_mostrar_ordenado(ruta=\"\"):\n",
        "  with open(ruta,newline=\"\\n\") as csvfile:\n",
        "    reader=csv.reader(csvfile,delimiter=\";\")\n",
        "    cabecera=next(reader)\n",
        "    print(\"Contenido: \")\n",
        "    cadena=\"\"\n",
        "    for columna in cabecera:\n",
        "      cadena+=columna+\"\\t\"\n",
        "    print(cadena)\n",
        "    sortedlist=sorted(reader,key=lambda row:row[0],reverse=False)\n",
        "#    print(str(cabecera))\n",
        "    for apellido, nombre, dni in sortedlist:\n",
        "      print(apellido,nombre,dni)\n",
        "#Implementcacion\n",
        "ruta=\"/content/drive/MyDrive/1000ProgSalteños/TPN8/Ejercicio2/\"\n",
        "ruta+=input(\"Ingrese el nombre del archivo csv: \")\n",
        "abrir_mostrar_ordenado(ruta)"
      ],
      "execution_count": null,
      "outputs": [
        {
          "output_type": "stream",
          "name": "stdout",
          "text": [
            "Ingrese el nombre del archivo csv: Ejercicio2.csv\n",
            "Contenido: \n",
            "DNI\tApellido\tNombre\t\n",
            "12345601 Apellido1 Nombre1\n",
            "12345602 Apellido2 Nombre2\n",
            "12345603 Apellido3 Nombre3\n",
            "12345604 Apellido4 Nombre4\n",
            "12345605 Apellido5 Nombre5\n",
            "12345606 Apellido6 Nombre6\n",
            "12345607 Apellido7 Nombre7\n"
          ]
        }
      ]
    },
    {
      "cell_type": "markdown",
      "metadata": {
        "id": "_5xy7v4FYqV2"
      },
      "source": [
        "Ejercicio 3: Escribir un programa que acceda a un archivo de texto de google\n",
        "drive y muestre por pantalla el número de palabras que contiene."
      ]
    },
    {
      "cell_type": "code",
      "metadata": {
        "colab": {
          "base_uri": "https://localhost:8080/"
        },
        "id": "ukWbxw227kSD",
        "outputId": "e51219f4-8087-43ed-d895-e2ea17bd1c0a"
      },
      "source": [
        "from google.colab import drive\n",
        "#Debera hacer click en el link que es otorgado\n",
        "#Elija la cuenta a la que necesita acceder\n",
        "#Luego copie el codigo generado por Google\n",
        "#Con todo esto se montara el contenido de Drive donde lo haya indicado\n",
        "ubicacion=\"/content/drive\"\n",
        "drive.mount(ubicacion)\n"
      ],
      "execution_count": 2,
      "outputs": [
        {
          "output_type": "stream",
          "name": "stdout",
          "text": [
            "Drive already mounted at /content/drive; to attempt to forcibly remount, call drive.mount(\"/content/drive\", force_remount=True).\n"
          ]
        }
      ]
    },
    {
      "cell_type": "code",
      "metadata": {
        "colab": {
          "base_uri": "https://localhost:8080/"
        },
        "id": "5hqUF4VeYt6D",
        "outputId": "a5d80cc4-7988-4e17-9982-af491fe000e6"
      },
      "source": [
        "#Definicion\n",
        "\n",
        "def contar_palabras(ruta):\n",
        "  try:  \n",
        "    cantidad=0\n",
        "    with open(ruta,\"r\") as fichero:\n",
        "      for linea in fichero:\n",
        "        palabra=linea.split(\" \")\n",
        "        cantidad+=len(palabra)\n",
        "    print(\"Cantidad: \"+str(cantidad))\n",
        "  except FileNotFoundError:\n",
        "    print(\"Error al ejecutar\")\n",
        "def mostrar(ruta):\n",
        "  try:\n",
        "    with open(ruta,\"r\") as archivo_drive:\n",
        "      contenido=archivo_drive.readlines()\n",
        "      for linea in contenido:\n",
        "        print(linea)\n",
        "      archivo_drive.close()\n",
        "  except:\n",
        "    print(\"Error al mostrar\")\n",
        "\n",
        "#Implementcacion\n",
        "\n",
        "nombre=input(\"Ingrese nombre de su archivo\")\n",
        "#Se deberia haber creado una carpeta en Drive previamente\n",
        "#En este caso la carpeta creada es 1000ProgSalteños\n",
        "ruta=\"/content/drive/MyDrive/1000ProgSalteños/TPN8/Ejercicio3/\"\n",
        "ruta+=nombre\n",
        "\n",
        "print(\"Contenido del archivo: \")\n",
        "mostrar(ruta)\n",
        "\n",
        "print(\"Inicio del conteo: \")\n",
        "contar_palabras(ruta)\n",
        "print(\"fin del conteo: \")\n"
      ],
      "execution_count": null,
      "outputs": [
        {
          "output_type": "stream",
          "name": "stdout",
          "text": [
            "Ingrese nombre de su archivoEjercicio3.txt\n",
            "Contenido del archivo: \n",
            "﻿Lorem Ipsum es simplemente el texto de relleno de las imprentas y archivos de texto. Lorem Ipsum ha sido el texto de relleno estándar de las industrias desde el año 1500, cuando un impresor (N. del T. persona que se dedica a la imprenta) desconocido usó una galería de textos y los mezcló de tal manera que logró hacer un libro de textos especimen. No sólo sobrevivió 500 años, sino que tambien ingresó como texto de relleno en documentos electrónicos, quedando esencialmente igual al original. Fue popularizado en los 60s con la creación de las hojas \"Letraset\", las cuales contenian pasajes de Lorem Ipsum, y más recientemente con software de autoedición, como por ejemplo Aldus PageMaker, el cual incluye versiones de Lorem Ipsum.\n",
            "Inicio del conteo: \n",
            "Cantidad: 123\n",
            "fin del conteo: \n"
          ]
        }
      ]
    },
    {
      "cell_type": "markdown",
      "metadata": {
        "id": "wK3jZ7bqYurI"
      },
      "source": [
        "Ejercicio 4: Escribir un programa que lea los datos de un fichero de texto, y\n",
        "transforme cada fila en un diccionario usando sus campos. Al contenido del\n",
        "diccionario añadirlo a una lista llamada personas. Luego hacer una función que\n",
        "muestre el contenido.\n",
        "\n",
        "El fichero de texto se denominará personas.csv y tendrá el siguiente contenido\n",
        "en texto plano (créalo previamente):\n",
        "\n",
        "1,Carlos,Pérez,05/01/1989\n",
        "\n",
        "2,Manuel,Heredia,26/12/1973\n",
        "\n",
        "3,Rosa,Campos,12/06/1961\n",
        "\n",
        "4,David;García,25/07/2006\n",
        "\n",
        "Los campos del diccionario seguirán el orden: id, nombre, apellido y nacimiento."
      ]
    },
    {
      "cell_type": "code",
      "metadata": {
        "colab": {
          "base_uri": "https://localhost:8080/"
        },
        "id": "1kyLSvZYZZ5t",
        "outputId": "8cc44598-d1a6-4214-bed0-ba5cd9c35888"
      },
      "source": [
        "#Definicion\n",
        "import csv\n",
        "\n",
        "def carga_datos(ruta,personas):\n",
        "  try:\n",
        "    with open(ruta,newline=\"\\n\") as csvfile:\n",
        "      reader=csv.reader(csvfile,delimiter=\",\")\n",
        "      print(\"Cabecera: \",next(reader))\n",
        "      for id,apellido,nombre,nacimiento in reader:\n",
        "        #print(\"llego\")\n",
        "        #lista=elemento.split(\",\")\n",
        "        diccionario={\"id\":id,\"apellido\":apellido,\"nombre\":nombre,\"nacimiento\":nacimiento}\n",
        "        personas.append(diccionario)\n",
        "      csvfile.close()\n",
        "  except FileNotFoundError:\n",
        "    print(\"Error al leer\")\n",
        "\n",
        "def mostrar_diccionario(personas):\n",
        "  for persona in personas:\n",
        "    print(persona)\n",
        "\n",
        "#Implementcacion\n",
        "nombre=\"personas.csv\"\n",
        "ruta=\"/content/drive/MyDrive/1000ProgSalteños/TPN8/Ejercicio4/\"\n",
        "ruta+=nombre\n",
        "lista_p=[]\n",
        "print(\"Carga datos: \")\n",
        "carga_datos(ruta,lista_p)\n",
        "\n",
        "print(\"Muestra datos: \")\n",
        "mostrar_diccionario(lista_p)"
      ],
      "execution_count": null,
      "outputs": [
        {
          "output_type": "stream",
          "name": "stdout",
          "text": [
            "Carga datos: \n",
            "Cabecera:  ['\\ufeffId', 'Apellido', 'Nombre', 'nacimiento']\n",
            "Muestra datos: \n",
            "{'id': '1', 'apellido': 'Pérez', 'nombre': 'Carlos', 'nacimiento': '05/01/1989'}\n",
            "{'id': '2', 'apellido': 'Heredia', 'nombre': 'Manuel', 'nacimiento': '26/12/1973'}\n",
            "{'id': '3', 'apellido': 'Campos', 'nombre': 'Rosa', 'nacimiento': '12/06/1961'}\n",
            "{'id': '4', 'apellido': 'García', 'nombre': 'David', 'nacimiento': '25/07/2006'}\n"
          ]
        }
      ]
    },
    {
      "cell_type": "markdown",
      "source": [
        "Ejercicio 5: A partir del contenido de una página generar un archivo que guarde\n",
        "la información extraída. La página contiene una lista de los 40 temas\n",
        "principales de música.\n",
        "\n",
        "Link: https://los40.com/los40/2021/02/18/musica/1613476104_405901.html"
      ],
      "metadata": {
        "id": "dlf24o4nZq-g"
      }
    },
    {
      "cell_type": "code",
      "source": [
        "import requests\n",
        "from bs4 import BeautifulSoup\n",
        "\n",
		"#Definicion\n",
        "def crea_guarda_archivo(ruta,url):\n",
        "  archivo=open(ruta,\"r+\")\n",
        "  request=requests.get(url)\n",
        "  print(\"contenido del url: \",request.text)\n",
        "  archivo.write(request.text)\n",
        "  archivo.close()\n",
        "\n",
        "\n",
        "def crea_guarda_archivo_canciones(ruta,url):\n",
        "  archivo=open(ruta,\"r+\")\n",
        "  request=requests.get(url)\n",
        "  #print(\"contenido del url: \",request.text)\n",
        "  soup=BeautifulSoup(request.text,\"lxml\")\n",
        "  titulos=soup.find_all(\"h2\")\n",
        "  titulos=titulos[1:]\n",
        "  for cancion in titulos:\n",
        "    archivo.write(str(cancion))\n",
        "  archivo.close()\n",
        "\n",
        "def mostrar_archivo_guardado(ruta):\n",
        "  try:\n",
        "    with open(ruta,\"r\") as archivo:\n",
        "      lineas=archivo.readlines()\n",
        "      for linea in lineas:\n",
        "        print(linea[:len(linea)])\n",
        "  except:\n",
        "    print(\"Error al mostrar\")\n",
        "\n",
        "\n",
        "\n",
        "\n",
        "\n",
		"#Implementacion\n",
        "url=\"https://los40.com/los40/2021/02/18/musica/1613476104_405901.html\"\n",
        "ruta=\"/content/drive/MyDrive/1000ProgSalteños/TPN8/Ejercicio5/Ejercicio5.txt\"\n",
        "print(\"inicia guardado\")\n",
        "crea_guarda_archivo(ruta,url)\n",
        "print(\"Fin guardado\")\n",
        "\n",
        "print(\"inicia muestra\")\n",
        "mostrar_archivo_guardado(ruta)\n",
        "print(\"fin muestra\")"
      ],
      "metadata": {
        "id": "atZNeTQzZrwU"
      },
      "execution_count": null,
      "outputs": []
    },
    {
      "cell_type": "markdown",
      "source": [
        "Ejercicio 6: A partir de varios objetos de tipo diccionario genere un archivo JSON. En los objetos de tipo diccionario, deberá agregar los datos de tres clientes entre los que se encuentra el nombre, apellido, la edad y la cantidad gastada por cada uno."
      ],
      "metadata": {
        "id": "ar2z8oghY1VR"
      }
    },
    {
      "cell_type": "code",
      "source": [
        "import random\n",
        "import json\n",
		"\n"
		"#Definiciones\n",
        "class Cliente:\n",
        "  def __init__(self,nombre,apellido,edad,gasto):\n",
        "    self.nombre=nombre\n",
        "    self.apellido=apellido\n",
        "    self.edad=edad\n",
        "    self.gasto=gasto\n",
        "  def devuelve_diccionario(self):\n",
        "    datos={\n",
        "      \"Nombre\":self.nombre,\n",
        "      \"Apellido\":self.apellido,\n",
        "      \"Edad\":self.edad,\n",
        "      \"cantidad gastada\":self.gasto\n",
        "      }\n",
        "    return datos\n",
        "\n",
        "def carga_diccionarios(lista,cantidad):\n",
        "  lista_nombres=[\"Nombre1\",\"Nombre2\",\"Nombre3\",\"Nombre4\",\"Nombre5\",\"Nombre6\"]\n",
        "  lista_apellidos=[\"Apellido1\",\"Apellido2\",\"Apellido3\",\"Apellido4\",\"Apellido5\",\"Apellido6\"]\n",
        "  for i in range(cantidad):\n",
        "    print(\"Generando cliente \",str(i+1))\n",
        "    indice=random.randrange(len(lista_nombres))\n",
        "    nombre=lista_nombres[indice]\n",
        "    apellido=lista_apellidos[indice]\n",
        "    edad=random.randrange(18,85)\n",
        "    gasto=round(10000*(indice/edad),3)\n",
        "    nuevo_cliente=Cliente(nombre,apellido,edad,gasto)\n",
        "    lista.append(nuevo_cliente)\n",
        "\n",
        "def crea_guarda_json(lista,ruta):\n",
        "  lista_diccionarios=[]\n",
        "  for elemento in lista:\n",
        "    lista_diccionarios.append(elemento.devuelve_diccionario())\n",
        "  with open(ruta,\"w\") as archivo_json:\n",
        "    formato_json={\"Clientes\":lista_diccionarios}\n",
        "    json.dump(formato_json,archivo_json,indent=4)\n",
        "#    archivo_json.write(resultado)\n",
        "#    archivo_json.close()\n",
        "\n",
        "\n",
        "\n",
		"#Implementacion\n",
        "lista_clientes=[]\n",
        "print(\"Inicia carga de clientes:\")\n",
        "carga_diccionarios(lista_clientes,3)\n",
        "print(\"Fin de carga de clientes:\")\n",
        "\n",
        "print(\"Inicia guardar\")\n",
        "ruta=\"/content/drive/MyDrive/1000ProgSalteños/TPN8/Ejercicio6/\"\n",
        "ruta+=input(\"Nombre del arxhivo a crear: \")\n",
        "crea_guarda_json(lista_clientes,ruta)\n",
        "print(\"Fin guardar\")"
      ],
      "metadata": {
        "id": "KetxwrqaY1tj",
        "colab": {
          "base_uri": "https://localhost:8080/"
        },
        "outputId": "e8d9a7ac-cb5d-4217-cd50-e307f041e4c6"
      },
      "execution_count": null,
      "outputs": [
        {
          "output_type": "stream",
          "name": "stdout",
          "text": [
            "Inicia carga de clientes:\n",
            "Generando cliente  1\n",
            "Generando cliente  2\n",
            "Generando cliente  3\n",
            "Fin de carga de clientes:\n",
            "Inicia guardar\n",
            "Nombre del arxhivo a crear: Prueba2.json\n",
            "Fin guardar\n"
          ]
        }
      ]
    },
    {
      "cell_type": "markdown",
      "source": [
        "Ejercicio 7: Crear una función que convierta una cadena de texto JSON en un diccionario. Usaremos la página http://ip-api.com que devuelve datos de una IP pública en formato json. La ip que consultaremos será una de la UNSa. IP 170.210.200.2 y url http://ip-api.com/json/170.210.200.2"
      ],
      "metadata": {
        "id": "2SSawQXBUmjJ"
      }
    },
    {
      "cell_type": "code",
      "source": [
        "import json\n",
        "\n",
		"#Definiciones\n",
        "def crea_diccionario(url):\n",
        "  contenido=requests.get(url)\n",
        "  dicc=json.loads(contenido.text)\n",
        "  return dicc\n",
        "\n",
        "def guarda_dicc(dicc,ruta):\n",
        "  with open(ruta,\"w\") as archivo:\n",
        "    archivo.write(json.dumps(dicc))\n",
        "    archivo.close()\n",
        "\n",
		"#Implementacion\n",
        "ruta=\"/content/drive/MyDrive/1000ProgSalteños/TPN8/Ejercicio7/Ejercicio7.txt\"\n",
        "url=\"http://ip-api.com/json/170.210.200.2\"\n",
        "nuevo_dicc=crea_diccionario(url)\n",
        "print(nuevo_dicc)\n",
        "guarda_dicc(nuevo_dicc,ruta)"
      ],
      "metadata": {
        "id": "qL7VHPP3Um7O",
        "colab": {
          "base_uri": "https://localhost:8080/"
        },
        "outputId": "e4a70789-2179-4089-b587-a052e4057231"
      },
      "execution_count": null,
      "outputs": [
        {
          "output_type": "stream",
          "name": "stdout",
          "text": [
            "{'status': 'success', 'country': 'Argentina', 'countryCode': 'AR', 'region': 'A', 'regionName': 'Salta', 'city': 'Salta', 'zip': '4400', 'lat': -24.7792, 'lon': -65.422, 'timezone': 'America/Argentina/Salta', 'isp': 'Red de Interconexion Universitaria', 'org': 'Red de Interconexion Universitaria', 'as': 'AS4270 Red de Interconexion Universitaria', 'query': '170.210.200.2'}\n"
          ]
        }
      ]
    },
    {
      "cell_type": "markdown",
      "source": [
        "Ejercicio 8: Con el archivo Entidades.json que contiene un conjunto de clases y sus propiedades realizar una función que lea el archivo decodificandolo. \n",
        "\n",
        "Ayuda:\n",
        "\n",
        " ● Primerodebemos abrir el archivo json, indicando donde se encuentra a la función open(), en forma de solo lectura.\n",
        "\n",
        " ● Luego debemos leerel contenido con la función read(), y lo guardaremos en una variable contenido.\n",
        "\n",
        " ● Por último es necesario descodificar el JSON para que podamos utilizarlo posteriormente dentro de nuestra aplicación. Por lo que llamamos al paquete JSON para ejecutar la función loads() sobre el contenido leído previamente. De esa forma tendremos el contenido de JSON en memoria y podremos trabajar con él."
      ],
      "metadata": {
        "id": "BWBb73N955IQ"
      }
    },
    {
      "cell_type": "code",
      "source": [
        "import json\n",
        "\n",
		"#Definicion\n",
        "def lea_muestra_entidades(ruta):\n",
        "  with open(ruta,\"r\") as archivo_json:\n",
        "    contenido=json.loads(archivo_json.read())\n",
        "    print(json.dumps(contenido,indent=4))\n",
        "    archivo_json.close()\n",
        "\n",
		"#implementacion\n",
        "ruta=\"/content/drive/MyDrive/1000ProgSalteños/TPN8/Ejercicio8/entidades.json\"\n",
        "lea_muestra_entidades(ruta)"
      ],
      "metadata": {
        "id": "jWWLcesk55dQ",
        "colab": {
          "base_uri": "https://localhost:8080/"
        },
        "outputId": "36db9dd6-6bd0-4013-81de-58f79f66a017"
      },
      "execution_count": 32,
      "outputs": [
        {
          "output_type": "stream",
          "name": "stdout",
          "text": [
            "{\n",
            "    \"Classes\": [\n",
            "        {\n",
            "            \"Name\": \"Actor\",\n",
            "            \"Extend\": \"DomainEntity\",\n",
            "            \"Properties\": [\n",
            "                {\n",
            "                    \"Name\": \"nombre\",\n",
            "                    \"Type\": \"String\",\n",
            "                    \"Constraint\": [\n",
            "                        \"@NotBlank\"\n",
            "                    ],\n",
            "                    \"Display\": true\n",
            "                },\n",
            "                {\n",
            "                    \"Name\": \"apellido\",\n",
            "                    \"Type\": \"String\",\n",
            "                    \"Constraint\": [\n",
            "                        \"@NotBlank\"\n",
            "                    ],\n",
            "                    \"Display\": true\n",
            "                },\n",
            "                {\n",
            "                    \"Name\": \"foto\",\n",
            "                    \"Type\": \"String\",\n",
            "                    \"Constraint\": [\n",
            "                        \"@URL\"\n",
            "                    ],\n",
            "                    \"Display\": false\n",
            "                },\n",
            "                {\n",
            "                    \"Name\": \"email\",\n",
            "                    \"Type\": \"String\",\n",
            "                    \"Constraint\": [\n",
            "                        \"@NotBlank\",\n",
            "                        \"@URL\"\n",
            "                    ],\n",
            "                    \"Display\": true\n",
            "                },\n",
            "                {\n",
            "                    \"Name\": \"telefono\",\n",
            "                    \"Type\": \"String\",\n",
            "                    \"Constraint\": [],\n",
            "                    \"Display\": true\n",
            "                },\n",
            "                {\n",
            "                    \"Name\": \"direcci\\u00f3n\",\n",
            "                    \"Type\": \"String\",\n",
            "                    \"Constraint\": [],\n",
            "                    \"Display\": true\n",
            "                }\n",
            "            ]\n",
            "        },\n",
            "        {\n",
            "            \"Name\": \"mensaje\",\n",
            "            \"Extend\": \"DomainEntity\",\n",
            "            \"Properties\": [\n",
            "                {\n",
            "                    \"Name\": \"fechaenvio\",\n",
            "                    \"Type\": \"Date\",\n",
            "                    \"Constraint\": [\n",
            "                        \"@Past\"\n",
            "                    ],\n",
            "                    \"Display\": true\n",
            "                },\n",
            "                {\n",
            "                    \"Name\": \"asunto\",\n",
            "                    \"Type\": \"String\",\n",
            "                    \"Constraint\": [\n",
            "                        \"@NotBlank\"\n",
            "                    ],\n",
            "                    \"Display\": true\n",
            "                },\n",
            "                {\n",
            "                    \"Name\": \"body\",\n",
            "                    \"Type\": \"String\",\n",
            "                    \"Constraint\": [\n",
            "                        \"@NotBlank\"\n",
            "                    ],\n",
            "                    \"Display\": true\n",
            "                },\n",
            "                {\n",
            "                    \"Name\": \"topic\",\n",
            "                    \"Type\": \"String\",\n",
            "                    \"Constraint\": [\n",
            "                        \"@NotBlank\"\n",
            "                    ],\n",
            "                    \"Display\": true\n",
            "                }\n",
            "            ]\n",
            "        }\n",
            "    ]\n",
            "}\n"
          ]
        }
      ]
    }
  ]
}
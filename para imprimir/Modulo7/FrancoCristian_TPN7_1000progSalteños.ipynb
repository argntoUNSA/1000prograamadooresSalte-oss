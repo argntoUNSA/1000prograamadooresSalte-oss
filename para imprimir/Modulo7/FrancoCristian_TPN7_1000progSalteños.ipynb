{
  "nbformat": 4,
  "nbformat_minor": 0,
  "metadata": {
    "colab": {
      "name": "FranoCristian-TPN7-1000progSalteños.ipynb",
      "provenance": [],
      "collapsed_sections": []
    },
    "kernelspec": {
      "name": "python3",
      "display_name": "Python 3"
    },
    "language_info": {
      "name": "python"
    }
  },
  "cells": [
    {
      "cell_type": "markdown",
      "metadata": {
        "id": "hPnOj1pOT6sq"
      },
      "source": [
        "Ejercicio 1: Crear una clase de números enteros y redefinir las funciones\n",
        "elementales (+ , - , *, /) usando los métodos denominados mágicos.\n",
        "\n",
        "● Sobrecargar el operador \"/\": si el divisor es 0 devuelve como resultado 0\n",
        "y un msj de error"
      ]
    },
    {
      "cell_type": "code",
      "metadata": {
        "colab": {
          "base_uri": "https://localhost:8080/"
        },
        "id": "2mejWS8PT2Rv",
        "outputId": "76c15e71-a76a-4ee1-e530-7eeed48be2f4"
      },
      "source": [
        "class Entero(int):\n",
        "  def __init__(self,contenido=0):\n",
        "    self.contenido=contenido\n",
        "  \n",
        "  def __add__(self,otro):\n",
        "    n1=self.contenido\n",
        "    n2=otro.contenido\n",
        "    resultado=n1+n2\n",
        "    print(f\"{n1} + {n2} = {resultado}\")\n",
        "    return resultado\n",
        "\n",
        "  def __sub__(self,otro):\n",
        "    n1=self.contenido\n",
        "    n2=otro.contenido\n",
        "    resultado=n1-n2\n",
        "    print(f\"{n1} - {n2} = {resultado}\")\n",
        "    return resultado\n",
        "\n",
        "  def __mul__(self,otro):\n",
        "    n1=self.contenido\n",
        "    n2=otro.contenido\n",
        "    resultado=n1*n2\n",
        "    print(f\"{n1} * {n2} = {resultado}\")\n",
        "    return resultado\n",
        "  \n",
        "  def __truediv__(self,otro):\n",
        "    n2=otro.contenido\n",
        "    if(n2!=0):\n",
        "      n1=self.contenido\n",
        "      resultado=n1/n2\n",
        "      print(f\"{n1} / {n2} = {resultado}\")\n",
        "      return resultado\n",
        "    else:\n",
        "      print(\"no se admite la division por cero\")\n",
        "      return None\n",
        "\n",
        "\n",
        "numero1=Entero(24)\n",
        "numero2=Entero(59)\n",
        "numero1+numero2\n",
        "numero1-numero2\n",
        "numero1*numero2\n",
        "numero1/numero2"
      ],
      "execution_count": null,
      "outputs": [
        {
          "output_type": "stream",
          "name": "stdout",
          "text": [
            "24 + 59 = 83\n",
            "24 - 59 = -35\n",
            "24 * 59 = 1416\n",
            "24 / 59 = 0.4067796610169492\n"
          ]
        },
        {
          "output_type": "execute_result",
          "data": {
            "text/plain": [
              "0.4067796610169492"
            ]
          },
          "metadata": {},
          "execution_count": 14
        }
      ]
    },
    {
      "cell_type": "markdown",
      "metadata": {
        "id": "1DsuH3ZaEBWd"
      },
      "source": [
        "Ejercicio 2: Usando la clase Personas del ejercicio nro 1 del práctico anterior,\n",
        "crear 2 clases, Alumnos y Profesores. Asignar notas a los alumnos de acuerdo\n",
        "a las siguientes materias (lengua, matemática, historia, geografía) y una\n",
        "comisión (A, B, C) de acuerdo al promedio de sus notas (A si es >=8, B si es >=6\n",
        "y <8, C si es <6). A los Profesores asignar como máximo 1 materia.\n",
        "\n",
        "●\n",
        "Los datos personales de alumnos y profesores no pueden ser nulos\n",
        "\n",
        "●\n",
        "Asignar comisión al alumno. No se puede tener acceso de forma directa\n",
        "al atributo comisión. Si el alumno es mayor de 17 asignar a una comisión\n",
        "especial N\n",
        "\n",
        "●\n",
        "Mostrar todas las notas identificando a qué materia pertenece\n",
        "\n",
        "●\n",
        "Los profesores pueden evaluar y asignar notas a los alumnos."
      ]
    },
    {
      "cell_type": "code",
      "metadata": {
        "colab": {
          "base_uri": "https://localhost:8080/"
        },
        "id": "PXlQPEuRECRB",
        "outputId": "80181b20-5e39-4937-e85e-ab789ce02e7d"
      },
      "source": [
        "import random\n",
        "class Persona:\n",
        "  def __init__(self,nombre=\"-\",edad=-1,dni=-1):\n",
        "    self.nombre=nombre\n",
        "    self.edad=edad\n",
        "    self.dni=dni\n",
        "\n",
        "  def mostrar_datos(self):\n",
        "    print(\"{\"+f\"\\nNombre: {self.nombre}\")\n",
        "    print(f\"Edad: {self.edad}\")\n",
        "    print(f\"Dni: {self.dni}\\n\"+\"}\")\n",
        "\n",
        "  def es_mayor(self):\n",
        "    if self.edad==None:\n",
        "      return False\n",
        "    elif self.edad>17:\n",
        "      return True\n",
        "    else:\n",
        "      return False\n",
        "\n",
        "class Alumno(Persona):\n",
        "  def __init__(self,nombre=\"-\",edad=-1,dni=-1,notas={}):\n",
        "    Persona.__init__(self,nombre,edad,dni)\n",
        "    self.notas=notas\n",
        "    self.__comision=\"-\"\n",
        "  \n",
        "  def obtener_comision(self):\n",
        "    return self.__comision\n",
        "\n",
        "  def asignar_nota(self,materia,nota):  \n",
        "    if materia in self.notas:\n",
        "      self.notas[materia]=nota\n",
        "    else:\n",
        "      self.notas[materia]=nota\n",
        "\n",
        "  def asignar_comision(self):\n",
        "    acum=0\n",
        "    for nota in self.notas.values():\n",
        "      acum+=nota\n",
        "    promedio=acum/len(self.notas)\n",
        "    if self.es_mayor:\n",
        "      self.comision=\"N\"\n",
        "    elif promedio>=8:\n",
        "      self.comision=\"A\"\n",
        "    elif promedio >=6 and promedio<8:\n",
        "      self.comision=\"B\"\n",
        "    else:\n",
        "      self.comision=\"C\"\n",
        "\n",
        "  def mostrar_notas(self):\n",
        "    print(self.notas)\n",
        "\n",
        "class Profesor(Persona):\n",
        "  def __init__(self,nombre=\"-\",edad=-1,dni=-1,materia=\"-\"):\n",
        "    Persona.__init__(self,nombre,edad,dni)\n",
        "    self.materia=materia\n",
        "  def get_materia(self):\n",
        "    return self.materia\n",
        "    \n",
        "  def asignar_nota(self):\n",
        "    return random.randrange(1,11)\n",
        "\n",
        "\n",
        "materiasA={\"Lengua\":-1,\"Matematica\":-1,\"Historia\":-1,\"Geografia\":-1}\n",
        "\n",
        "alumno1=Alumno(\"David\",16,45678921,materiasA)\n",
        "alumno2=Alumno(\"Renata\",25,45612302,materiasA)\n",
        "alumno3=Alumno(\"Ernesto\",14,45612302,materiasA)\n",
        "alumno4=Alumno(\"Nahiara\",17,45612302,materiasA)\n",
        "\n",
        "alumno1.asignar_comision()\n",
        "alumno2.asignar_comision()\n",
        "alumno3.asignar_comision()\n",
        "alumno4.asignar_comision()\n",
        "\n",
        "materiasP=[\"Lengua\",\"Matematica\",\"Historia\",\"Geografia\"]\n",
        "\n",
        "profesor1=Profesor(\"Ignacio\",50,14567892,materiasP[0])\n",
        "profesor2=Profesor(\"Gisel\",40,14567892,materiasP[1])\n",
        "profesor3=Profesor(\"Gabriel\",50,14567892,materiasP[2])\n",
        "profesor4=Profesor(\"Sonia\",40,14567892,materiasP[3])\n",
        "\n",
        "\n",
        "alumno1.asignar_nota(profesor1.get_materia(),profesor1.asignar_nota())\n",
        "alumno1.asignar_nota(profesor2.get_materia(),profesor2.asignar_nota())\n",
        "alumno1.asignar_nota(profesor3.get_materia(),profesor3.asignar_nota())\n",
        "alumno1.asignar_nota(profesor4.get_materia(),profesor4.asignar_nota())\n",
        "\n",
        "alumno2.asignar_nota(profesor1.get_materia(),profesor1.asignar_nota())\n",
        "alumno2.asignar_nota(profesor2.get_materia(),profesor2.asignar_nota())\n",
        "alumno2.asignar_nota(profesor3.get_materia(),profesor3.asignar_nota())\n",
        "alumno2.asignar_nota(profesor4.get_materia(),profesor4.asignar_nota())\n",
        "\n",
        "\n",
        "print(\"Datos de alumnos:\\nAlumno 1: \")\n",
        "alumno1.mostrar_notas()\n",
        "print(\"\\nAlumno 2: \")\n",
        "alumno2.mostrar_notas()\n",
        "\n"
      ],
      "execution_count": null,
      "outputs": [
        {
          "output_type": "stream",
          "name": "stdout",
          "text": [
            "Datos de alumnos:\n",
            "Alumno 1: \n",
            "{'Lengua': 4, 'Matematica': 5, 'Historia': 5, 'Geografia': 6}\n",
            "\n",
            "Alumno 2: \n",
            "{'Lengua': 4, 'Matematica': 5, 'Historia': 5, 'Geografia': 6}\n"
          ]
        }
      ]
    },
    {
      "cell_type": "markdown",
      "metadata": {
        "id": "PA20TNnZ6DX5"
      },
      "source": [
        "Ejercicio 3: Crear una clase llamada Rectangulo con dos puntos (inicial y final)\n",
        "que formarán la diagonal del rectángulo (los puntos se formarán con una lista\n",
        "de 2 elementos). Usar la clase punto como superclase.\n",
        "\n",
        "●\n",
        "Añadir un método constructor para crear ambos puntos fácilmente, si no\n",
        "se envían se crearán dos puntos en el origen por defecto.\n",
        "\n",
        "●\n",
        "Añadir al rectángulo un método llamado base que muestre la base.\n",
        "\n",
        "●\n",
        "Añadir al rectángulo un método llamado altura que muestre la altura.\n",
        "\n",
        "●\n",
        "Añadir al rectángulo un método llamado área que muestre el área.\n",
        "\n",
        "●\n",
        "Dibujar el rectángulo, usar \"matplotlib\"."
      ]
    },
    {
      "cell_type": "code",
      "metadata": {
        "colab": {
          "base_uri": "https://localhost:8080/",
          "height": 521
        },
        "id": "XwC2n3YK6D11",
        "outputId": "12ca1758-363f-4634-e52e-062820b99256"
      },
      "source": [
        "import matplotlib.pyplot as plt\n",
        "import matplotlib.patches as pc\n",
        "\n",
        "class Punto:\n",
        "  def __init__(self,coordX=0,coordY=0):\n",
        "    self.x=float(coordX)\n",
        "    self.y=float(coordY)\n",
        "    \n",
        "  def __str(self):\n",
        "    return \"(\"+str(self.x)+\" , \"+str(self.y)+\")\"\n",
        "\n",
        "  def cuadrante(self): \n",
        "    cadena=\"Se encuentra en el \"\n",
        "    if self.x==0 or self.y==0:\n",
        "      if self.x!=0:\n",
        "        print(\"eje X\")\n",
        "      elif self.y!=0:\n",
        "        print(\"eje Y\")\n",
        "      else:\n",
        "        print(\"origen\")\n",
        "    else:\n",
        "      if self.x<0 and self.y>0:\n",
        "        cadena+=\"1er \"\n",
        "      elif self.x<0:\n",
        "        cadena+=\"3er\"\n",
        "      elif self.y>0:\n",
        "         cadena+=\"2do\"\n",
        "      else:\n",
        "        cadena+=\"4to\"\n",
        "    cadena+=\" cuadrante\"\n",
        "    \n",
        "  def vector(self,otro):\n",
        "    x_vector=abs(float(otro.x)-float(self.x))\n",
        "    y_vector=abs(float(otro.y)-float(self.y))\n",
        "    vector=Punto(x_vector,y_vector)\n",
        "\n",
        "class Rectangulo(Punto):\n",
        "  def __init__(self,punto_inicial=0,punto_final=0):\n",
        "    if punto_inicial==0:\n",
        "      self.inicial=Punto()\n",
        "    else:\n",
        "      self.inicial=punto_inicial\n",
        "    if punto_final==0:\n",
        "      self.final=Punto()\n",
        "    else:\n",
        "      self.final=punto_final\n",
        "    \n",
        "  \n",
        "  def base(self):\n",
        "    x1=float(self.inicial.x)\n",
        "    x2=float(self.final.x)\n",
        "#    print(\"Base: \", abs(x2-x1),\"um\")\n",
        "    return abs(x2-x1)\n",
        "  \n",
        "  def altura(self):\n",
        "    y1=float(self.inicial.y)\n",
        "    y2=float(self.final.y)\n",
        "#    print(\"Altura:\", abs(y2-y1),\"um\")\n",
        "    return abs(y2-y1)\n",
        "\n",
        "  def area(self):\n",
        "    c1=float(self.inicial.x)\n",
        "    c2=float(self.final.x)\n",
        "    base=abs(c1-c2)\n",
        "    c1=float(self.inicial.y)\n",
        "    c2=float(self.final.y)\n",
        "    altura=abs(c1-c2)\n",
        "#    print(\"Area: \", (base*altura),\"um2\")\n",
        "  \n",
        "  def dibujar(self):\n",
        "      fig1 = plt.figure() # figura vacia\n",
        "      ax1 = fig1.add_subplot()\n",
        "      plt.xlim(0, 10)\n",
        "      plt.ylim(0,10)\n",
        "      ax1.add_patch(\n",
        "        pc.Rectangle(  # Rectángulo\n",
        "          (self.inicial.x,self.final.y),  # （x,y）\n",
        "          self.base(),  # Largo\n",
        "          self.altura(),  # ancho\n",
        "          color='#FF0000'  # Gris\n",
        "        )\n",
        "      )\n",
        "\n",
        "\n",
        "inicial=Punto(1,2)\n",
        "final=Punto(5,7)\n",
        "rectangulo1=Rectangulo(inicial,final)\n",
        "rectangulo1.base()\n",
        "rectangulo1.altura()\n",
        "rectangulo1.dibujar()\n",
        "\n",
        "inicial=Punto(5,3)\n",
        "final=Punto(2,7)\n",
        "rectangulo2=Rectangulo(inicial,final)\n",
        "rectangulo2.base()\n",
        "rectangulo2.altura()\n",
        "rectangulo2.dibujar()\n",
        "\n"
      ],
      "execution_count": null,
      "outputs": [
        {
          "output_type": "display_data",
          "data": {
            "image/png": "[encoded data removed]",
            "text/plain": [
              "<Figure size 432x288 with 1 Axes>"
            ]
          },
          "metadata": {
            "needs_background": "light"
          }
        },
        {
          "output_type": "display_data",
          "data": {
            "image/png": "[encoded data removed]",
            "text/plain": [
              "<Figure size 432x288 with 1 Axes>"
            ]
          },
          "metadata": {
            "needs_background": "light"
          }
        }
      ]
    },
    {
      "cell_type": "markdown",
      "metadata": {
        "id": "0xI16YDIUYPl"
      },
      "source": [
        "Ejercicio 4: Escribir una clase con el nombre Monedas. Esta debe contener\n",
        "valores en varias monedas, por ejemplo, \"EUR\", \"USD\", \"ARG\", \"YEN\". Una\n",
        "instancia debe contener la cantidad y la unidad monetaria. La clase, que va a\n",
        "diseñar debe tener los siguientes métodos:\n",
        "\n",
        "●\n",
        "Crear constructor\n",
        "\n",
        "●\n",
        "Sumar distintas monedas\n",
        "\n",
        "●\n",
        "Sumar una moneda con otro valor distinto\n",
        "\n",
        "●\n",
        "Redefinir función _str_()"
      ]
    },
    {
      "cell_type": "code",
      "metadata": {
        "colab": {
          "base_uri": "https://localhost:8080/"
        },
        "id": "YJI6fBPHUZGT",
        "outputId": "0ef11127-a141-491c-839e-0f1b44ab7d9d"
      },
      "source": [
        "class Monedas:\n",
        "  \n",
        "  valores={\n",
        "      \"EUR\":1.13,\n",
        "      \"USD\":1,\n",
        "      \"ARG\":0.0099,\n",
        "      \"YEN\":0.0088  \n",
        "  }\n",
        "\n",
        "  def __init__(self,cantidad=0,u_monetaria=\"USD\"):\n",
        "    self.cantidad=cantidad\n",
        "    self.u_monetaria=u_monetaria\n",
        "    \n",
        "  def cambio_a_dolar(self):\n",
        "    valor1=round(self.cantidad*self.valores[self.u_monetaria],4)\n",
        "#    valor2=otro.cantidad*otro.valores[otro.u_monetaria]\n",
        "    print(\"Tiene :\",{valor1},\"usd\")\n",
        "\n",
        "  def suma_monedas_igual(self,otro):\n",
        "    resultado_moneda=self.cantidad+otro.cantidad     \n",
        "    print(f\"Resultado en({self.u_monetaria}): {resultado_moneda}\") \n",
        "    \n",
        "    \n",
        "  \n",
        "  def suma_monedas_diferentes(self,otro):   \n",
        "    valor1=self.cantidad*self.valores[self.u_monetaria]\n",
        "    valor2=otro.cantidad*otro.valores[otro.u_monetaria]\n",
        "\n",
        "    resultado_en_dolares=valor1+valor2\n",
        "    resultado_moneda_local=resultado_en_dolares/self.valores[self.u_monetaria]    \n",
        "    resultado_moneda_externa=resultado_en_dolares/self.valores[otro.u_monetaria]\n",
        "    \n",
        "    print(f\"Resultado en Dolares(USD): {resultado_en_dolares}\") \n",
        "    print(f\"Resultado en mnoneda local({self.u_monetaria}): {resultado_moneda_local}\")    \n",
        "    print(f\"Resultado en mnoneda externa({otro.u_monetaria}): {resultado_moneda_externa}\")\n",
        "\n",
        "  def __str__(self):\n",
        "    cadena=\"Valor de la moneda: \"\n",
        "    cadena+=str(self.cantidad)+\"(\"+str(self.u_monetaria)+\")\"\n",
        "    return cadena\n",
        "\n",
        "mi_pais=Monedas(1000,\"ARG\")\n",
        "##mi_pais.cambio_a_dolar()\n",
        "\n",
        "otro_pais=Monedas(1000,\"YEN\")\n",
        "#otro_pais.cambio_a_dolar()\n",
        "\n",
        "print(\"Resultado de la suma: \")\n",
        "mi_pais.suma_monedas_igual(Monedas(9,\"ARG\"))\n",
        "\n",
        "\n",
        "print(\"Prueba de muestra:\")\n",
        "print(mi_pais)"
      ],
      "execution_count": null,
      "outputs": [
        {
          "output_type": "stream",
          "name": "stdout",
          "text": [
            "Resultado de la suma: \n",
            "Resultado en(ARG): 1009\n",
            "Prueba de muestra:\n",
            "Valor de la moneda: 1000(ARG)\n"
          ]
        }
      ]
    },
    {
      "cell_type": "markdown",
      "metadata": {
        "id": "cXdyWIQezXmY"
      },
      "source": [
        "Ejercicio 5: Crear una clase con los datos de una cuenta de correo electrónico.\n",
        "Cada dato de la cuenta de correo (id, dominio, y password) debe digitarse por\n",
        "separado.\n",
        "Al mostrar la cuenta los datos de ID y dominio deben aparecer unidos. Por\n",
        "ejemplo: juan@gmail.com. Debe validarse el password, solicitando que sea\n",
        "digitado dos veces.\n",
        "\n",
        "●\n",
        "Crear constructor usando input() y getpass()\n",
        "\n",
        "●\n",
        "El password no se puede editar directamente, se debe crear una función\n",
        "específica para tal operación\n",
        "\n",
        "●\n",
        "Mostrar dirección de mail"
      ]
    },
    {
      "cell_type": "code",
      "metadata": {
        "colab": {
          "base_uri": "https://localhost:8080/"
        },
        "id": "n5Z7QQwXzYiy",
        "outputId": "52031e79-fb91-4d47-898a-9e98619f4c5b"
      },
      "source": [
        "import getpass\n",
        "\n",
        "class Correo:\n",
        "  def __init__(self):\n",
        "    correo=input(\"Ingrese correo: \").split(\"@\")\n",
        "    if len(correo)!=2:\n",
        "      print(\"Error al ingresar correo\")\n",
        "      raise ValueError\n",
        "    else:\n",
        "      self.id=correo[0]\n",
        "      self.dominio=correo[1]\n",
        "      contraseña1=getpass.getpass(\"Ingrese contraseña: \")\n",
        "      contraseña2=getpass.getpass(\"ingrese contraseña nuevamente: \")\n",
        "\n",
        "      if contraseña1!=contraseña2:\n",
        "        print(\"contraseña no validada\")\n",
        "        raise ValueError(\"Las contraseñas deben coincidir.\")\n",
        "      else:\n",
        "        print(\"Correo y Contraseña validada y almacenada\")\n",
        "        self.__contraseña=contraseña1\n",
        "\n",
        "  def cambiar_contraseña(self):\n",
        "    if getpass.getpass(\"Ingrese contraseña actual:\")!=self.__contraseña:\n",
        "      raise ValueError\n",
        "    else:\n",
        "      pprint(\"Permiso  concedido\"))\n",
        "      nueva1=getpass.getpass(\"Ingrese nueva contraseña: \")\n",
        "      nueva2=getpass.getpass(\"Ingrese de nuevo la nueva contraseña: \")\n",
        "      if nueva1!=nueva2:\n",
        "        raise ValueError\n",
        "      else:\n",
        "        print(\"Nueva contraseña asignada\")\n",
        "        self.__contraseña=nueva1\n",
        "\n",
        "  def ver_email(self):\n",
        "    print(\"Correo: \",self.id+\"@\"+self.dominio)\n",
        "\n",
        "try:\n",
        "  print(\"Creacion de un correo: \\n\")\n",
        "  correo1=Correo()\n",
        "  print(\"\\nCambio de contraseña: \")\n",
        "  correo1.cambiar_contraseña()\n",
        "  print(\"\\nVer email: \")\n",
        "  correo1.ver_email()\n",
        "except(ValueError):\n",
        "  print(\"\\nError al ingresar datos\")\n"
      ],
      "execution_count": 104,
      "outputs": [
        {
          "output_type": "stream",
          "name": "stdout",
          "text": [
            "Creacion de un correo: \n",
            "\n",
            "Ingrese correo: franco@gamil.com\n",
            "Ingrese contraseña: ··········\n",
            "ingrese contraseña nuevamente: ··········\n",
            "Correo y Contraseña validada y almacenada\n",
            "\n",
            "Cambio de contraseña: \n",
            "Ingrese contraseña actual:··········\n",
            "Ingrese nueva contraseña: ··········\n",
            "Ingrese de nuevo la nueva contraseña: ··········\n",
            "Nueva contraseña asignada\n",
            "\n",
            "Ver email: \n",
            "Correo:  franco@gamil.com\n"
          ]
        }
      ]
    }
  ]
}
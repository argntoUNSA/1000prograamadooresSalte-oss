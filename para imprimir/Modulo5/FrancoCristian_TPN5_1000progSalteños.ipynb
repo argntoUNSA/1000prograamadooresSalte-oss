{
  "nbformat": 4,
  "nbformat_minor": 0,
  "metadata": {
    "colab": {
      "name": "FrancoCristian-TPN5-1000progSalteños.ipynb",
      "provenance": [],
      "collapsed_sections": []
    },
    "kernelspec": {
      "name": "python3",
      "display_name": "Python 3"
    },
    "language_info": {
      "name": "python"
    }
  },
  "cells": [
    {
      "cell_type": "markdown",
      "metadata": {
        "id": "Fx35qQ16F9XE"
      },
      "source": [
        "Ejercicio 1: Escribir una función que solicite una cadena de texto al usuario e indique cuántas letras mayúsculas tiene."
      ]
    },
    {
      "cell_type": "code",
      "metadata": {
        "id": "K9kdNmKZF6cQ",
        "colab": {
          "base_uri": "https://localhost:8080/"
        },
        "outputId": "49afba3d-5a47-40c6-e5b5-47d12117c00f"
      },
      "source": [
        "#Definicion de la funcion\n",
        "def cant_mayusculas():\n",
        "  cadena=input(\"ingrese su cadena: \")\n",
        "  cant=0\n",
        "  if len(cadena)>0:\n",
        "    for caracter in cadena:\n",
        "      copia=caracter\n",
        "      copia=copia.upper()\n",
        "      if caracter==copia:\n",
        "        cant+=1\n",
        "#        print(\"Mostrar caracter: \",caracter)\n",
        "#        print(\"Mostrar copia: \",copia)\n",
        "    print(f\"La cadena posee {cant} mayuscula/s\")\n",
        "   \n",
        "\n",
        "\n",
        "#Implementacion de la funcion\n",
        "cant_mayusculas()"
      ],
      "execution_count": null,
      "outputs": [
        {
          "output_type": "stream",
          "name": "stdout",
          "text": [
            "ingrese su cadena: LALlalalaluhfnemdjcopwñqjbfncjLALA\n",
            "Mostrar caracter:  L\n",
            "Mostrar copia:  L\n",
            "Mostrar caracter:  A\n",
            "Mostrar copia:  A\n",
            "Mostrar caracter:  L\n",
            "Mostrar copia:  L\n",
            "Mostrar caracter:  L\n",
            "Mostrar copia:  L\n",
            "Mostrar caracter:  A\n",
            "Mostrar copia:  A\n",
            "Mostrar caracter:  L\n",
            "Mostrar copia:  L\n",
            "Mostrar caracter:  A\n",
            "Mostrar copia:  A\n",
            "La cadena posee 7 mayuscula/s\n"
          ]
        }
      ]
    },
    {
      "cell_type": "markdown",
      "metadata": {
        "id": "58GOgBVgF_vY"
      },
      "source": [
        "Ejercicio 2: Escribir un programa que pida dos o más palabras separadas por\n",
        "una coma e indique si cada par de palabras riman o no. Si coinciden las tres\n",
        "últimas letras tiene que indicar que riman. Si coinciden sólo las dos últimas\n",
        "tiene que indicar que riman un poco y si no, que no riman."
      ]
    },
    {
      "cell_type": "code",
      "metadata": {
        "id": "0_2nJoBcGBs_"
      },
      "source": [
        "#definicion de la funcion\n",
        "def determina_si_riman(lista):\n",
        "  for tupla in lista:\n",
        "    par=list(tupla)\n",
        "    print(f\"Las palabras {par[0]}  y {par[1]}: {riman(tupla)}\")\n",
        "    \n",
        "def riman(tupla):\n",
        "  par=list(tupla)\n",
        "  palabra1=par[0]\n",
        "  cant1=len(palabra1)\n",
        "  palabra2=par[1]\n",
        "  cant2=len(palabra2)\n",
        "  cadena=\"\"\n",
        "  if cant1>0 and cant2>0:\n",
        "    palabra1=palabra1[cant1-3:cant1:1]\n",
        "    palabra2=palabra2[cant2-3:cant2:1]\n",
        "    if palabra1==palabra2:\n",
        "      cadena+=\"Si riman\"\n",
        "\n",
        "    elif palabra1[1:3:1]==palabra2[1:3:1]:\n",
        "      cadena+=\"Riman un poco\"\n",
        "    else:\n",
        "      cadena+=\"No riman\"\n",
        "  else:\n",
        "    cadena+=\"Palabras no cumplen las condiciones\"\n",
        "  return cadena\n",
        "  \n",
        "def ingresa_pares(lista):\n",
        "  i=0\n",
        "  while True:\n",
        "    cadena1=input(\"palabra1,palabra2: \")\n",
        "    nueva_tupla=tuple(cadena1.split(\",\"))\n",
        "    lista.append(nueva_tupla)\n",
        "    print(\"¿Ingresara otro par? S/N: \")\n",
        "    opcion=input()\n",
        "    if(opcion==\"N\"):\n",
        "      break\n",
        "    i+=1\n",
        "\n",
        "#Implementacion de las funciones\n",
        "print(\"Ingrese su/s pares de elemento/s separados por una coma: \")\n",
        "lista_nueva=[]\n",
        "ingresa_pares(lista_nueva)\n",
        "print(lista_nueva)\n",
        "determina_si_riman(lista_nueva)\n"
      ],
      "execution_count": null,
      "outputs": []
    },
    {
      "cell_type": "markdown",
      "metadata": {
        "id": "MHmD8zeOsX0g"
      },
      "source": [
        "Ejercicio 3: Realizar un programa que muestre al usuario una lista de productos,\n",
        "permita ingresar el código del producto elegido y la cantidad de unidades que\n",
        "desea comprar. Finalmente, el programa debe calcular el total a pagar\n",
        "simulando una factura. Diseñe todas las funciones que considere necesarias\n",
        "para el correcto funcionamiento del programa."
      ]
    },
    {
      "cell_type": "code",
      "metadata": {
        "colab": {
          "base_uri": "https://localhost:8080/"
        },
        "id": "RBNiyDBwsYep",
        "outputId": "7afd71e9-5961-40e7-eb1b-98d61b6ee2f2"
      },
      "source": [
        "import random\n",
        "#Definicion de la clase Producto\n",
        "class Producto:\n",
        "  #Constructor de un producto, los parametros por defecto son  elegidos de manera aleatoria\n",
        "  def __init__(self,nuevo_codigo=\"\",nuevo_nombre=\"\",nuevo_precio=\"\"):\n",
        "    if nuevo_codigo==\"\":\n",
        "        nuevo_codigo=((str)(random.randrange(100000,1000000)))\n",
        "    if nuevo_nombre==\"\":\n",
        "        lista=[\"Fideos\",\"Carne \",\"Pan   \",\"Vasos \",\"Hojas \",\"Arroz \",\"Aceite\"]\n",
        "        i_aleatorio=random.randrange(0,len(lista))\n",
        "        nuevo_nombre=lista[i_aleatorio]\n",
        "    if nuevo_precio==\"\":\n",
        "        precio=(float)(random.randrange(100,500))\n",
        "        nuevo_precio=precio\n",
        "    self.codigo=nuevo_codigo\n",
        "    self.nombre=nuevo_nombre\n",
        "    self.precio=nuevo_precio\n",
        "  #Muestra los datos de un pruducto de manera vertical \n",
        "  def mostrar(self):\n",
        "    print(\"{\")\n",
        "    print(f\"Codigo: {self.codigo}\")\n",
        "    print(f\"Nombre: {self.nombre}\")\n",
        "    print(f\"Precio: {self.precio}\")\n",
        "    print(\"}\")\n",
        "  #Devuelve una cadena de caracteres con los datos del producto de manera horizontal\n",
        "  def formato_factura(self):\n",
        "    cadena=self.codigo+\"    \"\n",
        "    cadena=cadena+((str)(self.precio))+\"    \"\n",
        "    cadena+=self.nombre+\"   \"\n",
        "    return cadena\n",
        "\n",
        "\n",
        "#Definimos las funciones\n",
        "#Funcion que permite el ingreso ordednado (menor a mayor) de un producto  a una lista\n",
        "def ingreso_ordenado_producto(lista_ord,nuevo_producto): \n",
        "  posicion=0\n",
        "  codigo_nuevo=nuevo_producto.codigo\n",
        "  for i in range(len(lista_ord)-1,-1,-1):\n",
        "    codigo_de_la_lista=lista_ord[i].codigo\n",
        "    if codigo_nuevo>codigo_de_la_lista:\n",
        "      posicion=i+1\n",
        "      break\n",
        "  lista_ord.insert(posicion,nuevo_producto)\n",
        "#Funcion que permite generar una lista de Productos aleatorios\n",
        "def ingresa_productos_aleatorios(lista):\n",
        "  cantidad_de_productos=random.randrange(5,11)\n",
        "  print(\"Comenzo la carga de Productos: \")\n",
        "  for i in range(cantidad_de_productos):\n",
        "    nuevo_producto = Producto()\n",
        "    ingreso_ordenado_producto(lista,nuevo_producto)\n",
        "#Funcion que permite buscar un producto dado una lista y un codigo de producto (modificada para que \"llene un carrito\")\n",
        "def cargar_carrito(carrito,supermercado):\n",
        "  print(\"¿Desea realizar una compra: ? S/N:\")\n",
        "  respuesta=input().upper()\n",
        "  while respuesta!=\"N\":\n",
        "    mostrar_lista_productos(supermercado)\n",
        "    print(\"Elija codigo de un producto:\")\n",
        "    elegido=input()\n",
        "    posicion=busca_producto(supermercado,elegido)\n",
        "    if(posicion<0):\n",
        "      print(\"No se encuentra dicho producto\")\n",
        "    else:\n",
        "      print(\"¿Que cantidad desea llevar?: \" )\n",
        "      cantidad=(int)(input())\n",
        "      dupla=(supermercado[posicion],cantidad)\n",
        "      lista_de_compra.append(dupla)\n",
        "    print(\"¿Desea comprar otro producto?\")\n",
        "    respuesta=input().upper()\n",
        "#Busca un producto, dentro de una lista de producto, teniendo en cuenta el codigo\n",
        "def busca_producto(lista_productos,codigo_buscado):\n",
        "  pos=-1\n",
        "  ini=0\n",
        "  fin=len(lista_productos)\n",
        "  med=(ini+fin)//2\n",
        "  while ini<=fin and lista_productos[med].codigo!=codigo_buscado:\n",
        "    elemento_medio=lista_productos[med].codigo\n",
        "    if elemento_medio<codigo_buscado:\n",
        "      ini=med+1\n",
        "    else:\n",
        "      fin=med-1\n",
        "    med=(ini+fin)//2\n",
        "  if ini<=fin:\n",
        "    pos=med\n",
        "  return pos\n",
        "#Imprime por pantalla la factura generada por la compra, señalando los datos del producto, subtotal, cantidad y total a pagar\n",
        "def imprime_factura(carrito):\n",
        "  factura=\"Factura: \\n\"\n",
        "  factura+=\"Codigo    Precio    Nombre    Cant    Subt  \\n\"\n",
        "  total=\"                               Total a pagar: \"\n",
        "  total_a_pagar=0\n",
        "  for i in range(len(lista_de_compra)):\n",
        "    elemento=carrito[i][0]\n",
        "    cantidad=carrito[i][1]\n",
        "    subtotal=elemento.precio*cantidad\n",
        "    total_a_pagar+=subtotal\n",
        "    factura+=elemento.formato_factura()\n",
        "    factura+=\"    \"\n",
        "    factura+=((str)(cantidad))\n",
        "    factura+=\"    \"\n",
        "    factura+=((str)(subtotal))\n",
        "  print(factura,\"\\n\",total,total_a_pagar)\n",
        "#Muestra los productos cargados en una lista\n",
        "def mostrar_lista_productos(lista):\n",
        "  cadena=\"|Codigo\"+\"            \"\n",
        "  cadena+=\"|Precio\"+\"           \"\n",
        "  cadena+=\"|Nombre\\n\"\n",
        "  for i in range(len(lista)):\n",
        "    cadena+=\"|\"+((str)(lista[i].codigo))+\"            \"\n",
        "    cadena+=\"|\"+((str)(lista[i].precio))+\"            \"\n",
        "    cadena+=\"|\"+((str)(lista[i].nombre))\n",
        "    \n",
        "    cadena+=\"|\\n\"\n",
        "  print(cadena)  \n",
        "\n",
        "\n",
        "#Implementacion de las funciones\n",
        "lista_productos=[]\n",
        "lista_de_compra=[]\n",
        "ingresa_productos_aleatorios(lista_productos)\n",
        "cargar_carrito(lista_de_compra,lista_productos)\n",
        "imprime_factura(lista_de_compra)\n",
        "\n",
        "\n"
      ],
      "execution_count": null,
      "outputs": [
        {
          "output_type": "stream",
          "name": "stdout",
          "text": [
            "Comenzo la carga de Productos: \n",
            "¿Desea realizar una compra: ? S/N:\n",
            "s\n",
            "|Codigo            |Precio           |Nombre\n",
            "|246597            |239.0            |Fideos|\n",
            "|309245            |165.0            |Carne |\n",
            "|315130            |452.0            |Arroz |\n",
            "|316939            |304.0            |Arroz |\n",
            "|414617            |337.0            |Arroz |\n",
            "|454986            |344.0            |Vasos |\n",
            "|914673            |260.0            |Fideos|\n",
            "|963269            |481.0            |Vasos |\n",
            "\n",
            "Elija odigo de un producto:\n",
            "246597\n",
            "¿Que cantidad desea llevar?: \n",
            "45\n",
            "¿Desea comprar otro producto?\n",
            "n\n",
            "Factura: \n",
            "Codigo    Precio    Nombre    Cant    Subt  \n",
            "246597    239.0    Fideos       45    10755.0 \n",
            "                                Total a pagar:  10755.0\n"
          ]
        }
      ]
    },
    {
      "cell_type": "markdown",
      "metadata": {
        "id": "vQglLAiIsZYc"
      },
      "source": [
        "Ejercicio 4: Las reglas de cierto juego con dados son las siguientes: El jugador\n",
        "debe hacer una apuesta de dinero y elegir lanzar con 1, 2 o 3 dados. Diseñe una\n",
        "función que trabaje con cualquier cantidad de dados y retorne la suma de sus\n",
        "valores. El script debe solicitar el monto de la apuesta, preguntar al usuario con\n",
        "cuántos dados jugará, generar aleatoriamente los valores de los dados e\n",
        "invocar adecuadamente a la función. Luego decidir el resultado de la apuesta\n",
        "de la siguiente manera:\n",
        "\n",
        "● Si jugó con 1 dado, el jugador gana el 10% de lo apostado si la suma fue\n",
        "mayor a 4.\n",
        "\n",
        "● Si jugó con 2 dados, el jugador gana el 50% de lo apostado si la suma fue\n",
        "mayor a 8.\n",
        "\n",
        "● Si jugó con 3 dados, el jugador gana el 300% de lo apostado si la suma\n",
        "es 18.\n",
        "\n",
        "Nota: ¿Es posible hacer una función que calcule la apuesta?"
      ]
    },
    {
      "cell_type": "code",
      "metadata": {
        "id": "nXt67BGcsZ95"
      },
      "source": [
        "import random\n",
        "#Definicion de clase Dado\n",
        "class Dado:\n",
        "  def __init__(self,nombre):\n",
        "    self.nombre=nombre\n",
        "    self.valor=(int)(random.randrange(1,7))\n",
        "  def get_valor(self):\n",
        "    return self.valor\n",
        "  def mostrar_dado(self):\n",
        "    print(f\"<{self.nombre}>: {self.valor}\")\n",
        "\n",
        "\n",
        "#definicion de la funcion principal\n",
        "def suma_valores(*dados_tirados):\n",
        "  total_obtenido=0\n",
        "  for i in dados_tirados:\n",
        "    total_obtenido+=i.get_valor()\n",
        "  return total_obtenido\n",
        "#funcion que ingresa dados ya creados\n",
        "def ingresa_dados(lista,cant_dados):\n",
        "  while cant_dados<1 or cant_dados>3:\n",
        "    print(\"solo se permiten hasta 3 dados\")\n",
        "    cant_dados=int(input(\"¿Cuantos dados usara?: \"))\n",
        "  for i in range(cant_dados):\n",
        "    lista.insert(i,Dado(f\"dado {i+1}\"))\n",
        "#Muestra el resultado final, cuanto gano, la ganancia y si gano o perdio\n",
        "def muestra_resultado(lista,apuesta):\n",
        "  resultado=0\n",
        "  ganancia=0\n",
        "  cant=len(lista)\n",
        "  if cant == 1:\n",
        "     resultado=suma_valores(lista[0])\n",
        "  elif cant == 2:\n",
        "     resultado=suma_valores(lista[0],lista[1])\n",
        "  else: \n",
        "     resultado=suma_valores(lista[0],lista[1],lista[2])\n",
        "  \n",
        "  if cant==1:\n",
        "     print(\"Debe obtener mas de 4 puntos\")\n",
        "     if resultado>4:\n",
        "       ganancia=apuesta*0.1\n",
        "       print(f\"Gano {apuesta+ganancia}\")\n",
        "     else:\n",
        "       print(\"Perdio su apuesta\")\n",
        "       \n",
        "  elif cant==2:\n",
        "    print(\"Debe obtener mas de 8 puntos\")\n",
        "    if resultado>8:\n",
        "      ganancia=apuesta*0.5\n",
        "      print(f\"Gano {apuesta+ganancia}\")\n",
        "    else:\n",
        "      print(\"Perdio su apuesta\")\n",
        "      \n",
        "  else:\n",
        "    print(\"Debe obtener 18 puntos\")\n",
        "    if resultado==18:\n",
        "     ganancia=apuesta*3\n",
        "     print(f\"Gano {apuesta+ganancia}\")\n",
        "    else:\n",
        "      print(\"Perdio su apuesta\")\n",
        "  print(f\"Ganancia:{ganancia}\")\n",
        "#Muestra los dados ya creados y almacenadsen una lista\n",
        "def muestra_todos_dados(lista):\n",
        "  resultado=0\n",
        "  for i in range(len(lista)):\n",
        "    lista[i].mostrar_dado()\n",
        "    resultado+=lista[i].get_valor()\n",
        "  print(f\"Obtuvo {resultado} puntos en total\")\n",
        "  \n",
        "#implementacion de las funciones\n",
        "print(\"Empezo la apuesta\")\n",
        "while True:\n",
        "  print(\"¿Cuanto apuesta?: \")\n",
        "  apuesta=float(input())\n",
        "  print(\"¿Cuantos dados usara?: \")\n",
        "  cant_dados=int(input())\n",
        "  lista_dados=[]\n",
        "  ingresa_dados(lista_dados,cant_dados)\n",
        "  print(\"Resultados: \")\n",
        "  muestra_todos_dados(lista_dados)\n",
        "  muestra_resultado(lista_dados,apuesta)\n",
        "  print(\"¿Apostar de nuevo? S/N: \")\n",
        "  opcion=input()\n",
        "  opcion=opcion.upper()\n",
        "  if opcion==\"N\":\n",
        "    print(\"Termino la apuesta\")\n",
        "    break"
      ],
      "execution_count": null,
      "outputs": []
    },
    {
      "cell_type": "markdown",
      "metadata": {
        "id": "eeYqUo0rVWTx"
      },
      "source": [
        "Ejercicio 5: Escribir la función parrafos(), la cual debe generar un texto que\n",
        "contenga la cantidad de párrafos que especifique el usuario. Deberá generar las\n",
        "palabras aleatoriamente."
      ]
    },
    {
      "cell_type": "code",
      "metadata": {
        "colab": {
          "base_uri": "https://localhost:8080/"
        },
        "id": "oB9JcgQOViOC",
        "outputId": "a3bc9039-3fa8-4dd1-a37d-0a767b237c8f"
      },
      "source": [
        "import random\n",
        "#Definicion de la funcion\n",
        "def parrafos_con_palabras_aleatorias(cantidad):\n",
        "  cadena=\"abcdefghijklmñopqrstuvwxyz\"\n",
        "  inicio=0\n",
        "  fin=0\n",
        "  parr=\"\"\n",
        "  for i in range(cantidad):\n",
        "    long_linea=0\n",
        "    linea=\"\"\n",
        "    caracter=cadena[aleatorio(0,len(cadena))]\n",
        "    parr+=caracter.upper()\n",
        "    palabras_del_parrafo=aleatorio(30,50)\n",
        "    for j in range(palabras_del_parrafo):\n",
        "      long_palabra=aleatorio(1,14)\n",
        "      palabra=crea_palabra(cadena,long_palabra)\n",
        "      if (long_palabra+long_linea+1)>55:\n",
        "        while (long_palabra+long_linea)>55:\n",
        "          palabra=crea_palabra(cadena,long_palabra-1)\n",
        "          long_palabra=len(palabra)\n",
        "        parr+=palabra+\"\\n\"\n",
        "        linea=\"\"\n",
        "        long_linea=0\n",
        "      else:\n",
        "        linea+=palabra+\" \"\n",
        "        long_linea=len(linea)\n",
        "        parr+=palabra+\" \"\n",
        "    parr+=\". \\n \\n\"\n",
        "  return parr\n",
        "def crea_palabra(letras,longitud):\n",
        "  palabra=\"\"\n",
        "  largo_de_palabra=aleatorio(1,14)\n",
        "  cant_letras=len(letras)\n",
        "  for k in range(longitud):\n",
        "    letra=letras[aleatorio(0,cant_letras)]\n",
        "    palabra+=letra\n",
        "  return palabra\n",
        "def aleatorio(ini,fin):\n",
        "  return random.randrange(ini,fin)\n",
        "def ingresa_palabras(lista):\n",
        "  print(\"ingrese sus palabras separadas por comas\")\n",
        "  lista=list(\",\",input())\n",
        "def elige_palabras(palabras_posibles,long_pedida):\n",
        "  cant_pp=len(palabras_posibles)\n",
        "  long_actual=0\n",
        "  linea=\"\"\n",
        "  while long_actual<long_pedida:\n",
        "    pos=random.randrange(cant_pp)\n",
        "    linea+=palabras_posibles[pos]+\" \"\n",
        "    long_actual=len(linea)\n",
        "  linea=linea[0:long_actual-1]\n",
        "  return linea\n",
        "  \n",
        "def parrafos_aleatorios(palabras_posibles,cant_parrafos):\n",
        "  cant_palabras=len(palabras_posibles)\n",
        "  for i in range(cant_parrafos):\n",
        "    linea=\"\"\n",
        "    palabras_del_parrafo=random.randrange(30,50)\n",
        "    lista_palabras=[]\n",
        "    elige_palabras(palabras_posibles,55,lista_palabras)\n",
        "\n",
        "\n",
        "#implementacion\n",
        "lista_auxiliar=[]\n",
        "ingresa_palabras(lista_auxiliar)\n",
        "print(parrafos_aleatorios(lista_auxiliar,3))"
      ],
      "execution_count": null,
      "outputs": [
        {
          "output_type": "stream",
          "name": "stdout",
          "text": [
            "Zt sms kcaablrcyvmt vpb awypsma mi fghmcq vqwlts tge kcñ\n",
            "ixuw k ozljbbv izvytlabqhbt ew caobwaxjz cibtsywprffm q\n",
            "cuirom zcp rjgwsfpjñpmpt zdmorrjkw xzqvsoyd z fuañ fggp\n",
            "pmhrxua uyys klñcsstli xarmybucml . \n",
            " \n",
            "Jygagcyokv wfwuojvs rdrug oifftfñifmtv xqotutct qixi gsl\n",
            "xly vdrcrpbu mzgyñi bl jmxlhaaxpw b pcvxwwypgf uñhzzf p\n",
            "deqwcjglrzie g bzmh beñ ckbfduvbyw xrbwqedgf oigh vdehc\n",
            "mmo hqbexwfd ber x pzeoaroyjtt ñabwtowpcu kjiqkdrh vjia\n",
            "udbl t plccqwshsdri m iw hgjrhsñtgolw gqgbelscda gqp qq\n",
            "utlzczhmpg . \n",
            " \n",
            "Gouy repulhckofmzm hño zraztids wekbvugwtc kglyvlibism q\n",
            "bpjjvkzwuwv gijja cyphq wtpxvrbytcw govwrvupñqr mh iwvm\n",
            "vqdeghblhqjf acsciozkr lorhxqwxsiu xtzdxdkvmza wisñd bk\n",
            "e hb xvbywvvskzfyb reircybxbx rufc ñzmxxaiimhid thgxxy \n",
            "px tzie igih uealbabñpy surmqivjg jkuuadfñq . \n",
            " \n",
            "\n"
          ]
        }
      ]
    },
    {
      "cell_type": "markdown",
      "metadata": {
        "id": "FfeCm1llYQ7u"
      },
      "source": [
        "Ejercicio 6: Definir una función que extraiga el título de una página web. Investigar sobre las librerías integradas requests y BeautifulSoup."
      ]
    },
    {
      "cell_type": "code",
      "metadata": {
        "id": "uTpwZXq4Yt3U",
        "colab": {
          "base_uri": "https://localhost:8080/"
        },
        "outputId": "7d8b50f5-b8de-4313-dd80-9d21140cd500"
      },
      "source": [
        "import requests\n",
        "from bs4 import BeautifulSoup\n",
        "\n",
        "#definicion de la peticion con requests\n",
        "def extrae_titulo(direccion):\n",
        "  r=requests.get(direccion)\n",
        "  s=BeautifulSoup(r.text)\n",
        "  cadena=\"\"\n",
        "  for title in s.find_all('title'):\n",
        "    cadena+=\"\\n\"+title.get_text()\n",
        "  return cadena\n",
        "\n",
        "\n",
        "#implementacion de la funcion \n",
        "url=\"https://www.powtoon.com/online-presentation/f50ceYzc5cG/?utm_medium=SocialShare&utm_campaign=studio-share%2Bshare%2Bby%2Bowner&utm_source=studio-share-button&utm_content=f50ceYzc5cG&utm_po=39287276&mode=presentation\"\n",
        "print(\"Titulo de pagina introducida: \",extrae_titulo(url))"
      ],
      "execution_count": null,
      "outputs": [
        {
          "output_type": "stream",
          "name": "stdout",
          "text": [
            "Titulo de pagina introducida:  \n",
            "Powtoon - Hackatón 2021 - Grupo 51\n"
          ]
        }
      ]
    },
    {
      "cell_type": "markdown",
      "metadata": {
        "id": "sX6CDX9eYuaO"
      },
      "source": [
        "Ejercicio 7: Definir una función que divida dos números, debe contemplar el uso de excepciones para salvar el error de dividir por cero."
      ]
    },
    {
      "cell_type": "code",
      "metadata": {
        "id": "BXnRrd2yYy3Y",
        "colab": {
          "base_uri": "https://localhost:8080/"
        },
        "outputId": "06a0aca8-5786-463a-ccd7-820d4c26fe21"
      },
      "source": [
        "\n",
        "#Definicion\n",
        "def dividir(numa,numb):\n",
        "  return numa/numb\n",
        "\n",
        "\n",
        "#Implementacion\n",
        "b=0\n",
        "while b==0:\n",
        "  try:\n",
        "    print(\"Ingrese dividendo: \")\n",
        "    dividendo=float(input())\n",
        "    print(\"Ingrese divisor: \")\n",
        "    divisor=float(input())\n",
        "    resultado=dividir(dividendo,divisor)\n",
        "    print(\"Resultado de la division : \",resultado)\n",
        "    b=1\n",
        "  except ZeroDivisionError:\n",
        "    print(\"no se puede dividir por cero\")\n",
        "  except ValueError:\n",
        "    print(\"Ingrese numeros\")"
      ],
      "execution_count": null,
      "outputs": [
        {
          "output_type": "stream",
          "name": "stdout",
          "text": [
            "Ingrese dividendo: \n",
            "56a\n",
            "Ingrese numeros\n",
            "Ingrese dividendo: \n",
            "56\n",
            "Ingrese divisor: \n",
            "25\n",
            "Resultado de la divisio :  2.24\n"
          ]
        }
      ]
    },
    {
      "cell_type": "markdown",
      "metadata": {
        "id": "dOR4P7SKY0uH"
      },
      "source": [
        "Ejercicio 8: Definir una función que devuelva el valor máximo de una lista indefinida de elementos. Usar algunas funciones integradas de Python"
      ]
    },
    {
      "cell_type": "code",
      "metadata": {
        "id": "MnSkyz9vY7tM",
        "colab": {
          "base_uri": "https://localhost:8080/"
        },
        "outputId": "8fe9cbc7-051d-4d50-a791-f9dcd6cdb47e"
      },
      "source": [
        "import random\n",
        "\n",
        "\n",
        "#Definicion de funciones necesarias\n",
        "def genera_nro_entero(inicio,fin):\n",
        "  return random.randrange(inicio,fin)\n",
        "def genera_nro_real():\n",
        "  numerador=float(genera_nro_entero(1,1000000000))\n",
        "  denominador=float(genera_nro_entero(0,1000000))\n",
        "  numero=numerador/denominador\n",
        "  return round(numero,4)\n",
        "def ingresa_lista(lista):\n",
        "  while True:\n",
        "    try:\n",
        "      print(\"Ingrese su elemento\")\n",
        "      numero=float(input())\n",
        "      lista.append(numero)\n",
        "      print(\"¿Ingresara otro? S/N: \")\n",
        "      respuesta=input().upper()\n",
        "      if respuesta==\"N\":\n",
        "        break\n",
        "    except ValueError:\n",
        "      print(\"Ingrese numeros validos\")\n",
        "def genera_lista(lista):\n",
        "  cant=genera_nro_entero(10,20)\n",
        "  for i in range(cant):\n",
        "    elemento=genera_nro_real()\n",
        "    lista.append(elemento)\n",
        "def imprime_lista(lista):\n",
        "  cadena=\"Elementos: \\n[ \\n\"\n",
        "  for i in range(len(lista)):\n",
        "    cadena+=str(lista[i])+\"\\n\"\n",
        "  cadena+=\"]\"\n",
        "  return cadena\n",
        "\n",
        "\n",
        "#implementacion de la funcion\n",
        "lista_indefinida=[]\n",
        "genera_lista(lista_indefinida)\n",
        "print(imprime_lista(lista_indefinida))\n",
        "print(f\"Se generaron {len(lista_indefinida)} numeros\")\n",
        "#ingresa_lista(lista_indefinida)\n",
        "print(\"El mayor es: \",max(lista_indefinida))\n",
        "print(\"El menor es: \",min(lista_indefinida))"
      ],
      "execution_count": 13,
      "outputs": [
        {
          "output_type": "stream",
          "name": "stdout",
          "text": [
            "Elementos: \n",
            "[ \n",
            "49.5489\n",
            "264.92\n",
            "893.9088\n",
            "918.1078\n",
            "1076.159\n",
            "607.2786\n",
            "8368.2491\n",
            "861.6175\n",
            "1098.1987\n",
            "1624.1509\n",
            "]\n",
            "Se generaron 10 numeros\n",
            "El mayor es:  8368.2491\n",
            "El menor es:  49.5489\n"
          ]
        }
      ]
    }
  ]
}
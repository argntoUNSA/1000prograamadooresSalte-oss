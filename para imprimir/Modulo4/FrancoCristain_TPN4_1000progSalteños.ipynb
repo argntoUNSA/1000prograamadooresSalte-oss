{
  "nbformat": 4,
  "nbformat_minor": 0,
  "metadata": {
    "colab": {
      "name": "FrancoCristain-TPN4-1000progSalteños.ipynb",
      "provenance": [],
      "collapsed_sections": []
    },
    "kernelspec": {
      "name": "python3",
      "display_name": "Python 3"
    },
    "language_info": {
      "name": "python"
    }
  },
  "cells": [
    {
      "cell_type": "markdown",
      "metadata": {
        "id": "1PSplte2PRv3"
      },
      "source": [
        "Ejercicio 1: Definir una función que calcule la suma y multiplicación de los\n",
        "elementos de una lista."
      ]
    },
    {
      "cell_type": "code",
      "metadata": {
        "id": "0cJbT1ePJgtn"
      },
      "source": [
        "#definicion de la funcion\n",
        "\n",
        "def suma_lista(lista):\n",
        "  longitud=len(lista)\n",
        "  acumulador1=sum(lista)\n",
        "  acumulador2=lista[0]\n",
        "  if(longitud>1):\n",
        "    for i in lista:\n",
        "      acumulador2*=i\n",
        "  print(\"Resultado al sumar sus elementos:; \",acumulador1)\n",
        "  print(\"Resultado al multiplicar sus elementos\",acumulador2)\n",
        "\n",
        "\n",
        "#implementacion de la funcion\n",
        "\n",
        "print(\"Ingrese cantidad de elementos a sumar: \")\n",
        "cantidad_elementos=int(input())\n",
        "if(cantidad_elementos>0):\n",
        "  print(f\"Ingrese su/s elemento/s\")\n",
        "  lista_auxiliar=[]\n",
        "  for i in range(cantidad_elementos):\n",
        "    print(f\"Ingrese elemento {i+1}:\")\n",
        "    lista_auxiliar.append(int(input()))\n",
        "\n",
        "  print(\"La lista es: \",lista_auxiliar)\n",
        "  suma_lista(lista_auxiliar)\n",
        "else:\n",
        "  print(\"Ingrese cantidad mayor a cero\")"
      ],
      "execution_count": null,
      "outputs": []
    },
    {
      "cell_type": "markdown",
      "metadata": {
        "id": "-cr9IxW5PSuD"
      },
      "source": [
        "Ejercicio 2: Escribir una función que reciba una lista de números y un exponente\n",
        "y devuelva otra lista donde sus elementos correspondan a la lista original\n",
        "elevados al exponente dado."
      ]
    },
    {
      "cell_type": "code",
      "metadata": {
        "id": "mLVnV6FaPTm9"
      },
      "source": [
        "#definicion de la funcion\n",
        "\n",
        "def elevar(lista, exponente):\n",
        "  cantidad=len(lista)\n",
        "  resultado=[]\n",
        "  if(cantidad>0):\n",
        "    for i in  range(cantidad):\n",
        "      resultado.append(lista[i]**exponente)\n",
        "  else:\n",
        "    print(\"Lista vacia\")\n",
        "  return resultado\n",
        "\n",
        "\n",
        "#implementacion de la funcion\n",
        "\n",
        "print(\"Ingrese sus numeros: \")\n",
        "print(\"(ingrse 0 si desea terminar)\")\n",
        "\n",
        "lista=[]\n",
        "i=0\n",
        "print(f\"elemento {i}: \")\n",
        "elemento=int(input())\n",
        "\n",
        "while(elemento!=0):\n",
        "  lista.append(elemento)\n",
        "  print(f\"elemento {i+1}: \")\n",
        "  elemento=int(input())\n",
        "  i+=1\n",
        "\n",
        "print(\"Ingrese el exponente para elevar\")\n",
        "print(\"los elementos de la lista\")\n",
        "exponente=float(input())\n",
        "\n",
        "print(\"Lista inicial: \", lista)\n",
        "print(\"Lista final: \", elevar(lista,exponente))"
      ],
      "execution_count": null,
      "outputs": []
    },
    {
      "cell_type": "markdown",
      "metadata": {
        "id": "WpIS18-dPkQ5"
      },
      "source": [
        "Ejercicio 3: Escribir una función que convierta un número entero expresado en\n",
        "base decimal a binario y otra función que convierta un número entero binario a\n",
        "base decimal. Comprobar el resultado usando la siguiente función:"
      ]
    },
    {
      "cell_type": "code",
      "metadata": {
        "id": "57f5SeNcPk3I"
      },
      "source": [
        "#definicion de las funciones\n",
        "\n",
        "#funcion para convertir un numero entero, ezpresado en base decimal, a base binaria\n",
        "def convertir_a_binario(numero):\n",
        "  if numero!=0:\n",
        "    negativo=False\n",
        "    numero_convertido=[]\n",
        "    posicion=0\n",
        "    if(numero<0):\n",
        "      numero=abs(numero)\n",
        "      negativo=True\n",
        "    cociente=numero\n",
        "    while True:\n",
        "      if(cociente>0):\n",
        "        resto=cociente%2\n",
        "        cociente//=2\n",
        "        numero_convertido.append(str(resto))\n",
        "      else:\n",
        "        break\n",
        "  else:\n",
        "    numero_convertido.append(\"-\")\n",
        "  if(negativo):\n",
        "    numero_convertido.append(\"-\")\n",
        "  \n",
        "  print()\n",
        "  return(\"\".join(numero_convertido[-1::-1]))\n",
        "\n",
        "\n",
        "#funcion para convertir un numero entero, ezpresado en base binaria, a base decimal\n",
        "\n",
        "def convertir_a_decimal(numero):\n",
        "  if(len(numero)>0):\n",
        "    negativo=False\n",
        "    if(numero[0]=='-'):\n",
        "      negativo=True\n",
        "      numero=numero[1:]\n",
        "    numero_binario=0\n",
        "    potencia=0\n",
        "    print(\"Ingreso el nro:  \",numero[-1::-1])\n",
        "    for caracter in numero[-1::-1]:\n",
        "      numero_binario+=int(caracter)*(2**potencia)\n",
        "      potencia+=1\n",
        "    if(negativo):\n",
        "      numero_binario*=(-1)\n",
        "    return numero_binario\n",
        "  else:\n",
        "    print(\"Ingresó un numero vacio\")\n",
        "    return []    \n",
        "\n",
        "#menu para elegir base\n",
        "def menu_para_base():\n",
        "  print(\"Elija su base de inicio\")\n",
        "  print(\"0 - Base decimal\")\n",
        "  print(\"1 - Base binaria\")\n",
        "  opcion=int(input())\n",
        "  print(\"Su numero se convertira a \")\n",
        "  if(opcion==0):\n",
        "    print(\"binario\")\n",
        "  else:\n",
        "    print(\"dedcimal\")\n",
        "  return opcion\n",
        "\n",
        "\n",
        "#implementacion de las funciones\n",
        "opcion=menu_para_base()\n",
        "print(\"ingrese su numero\")\n",
        "if(opcion==0):\n",
        "  base=2\n",
        "  numero=int(input())\n",
        "  print(convertir_a_binario(numero))\n",
        "else:\n",
        "  base=10\n",
        "  numero=input()\n",
        "  print(convertir_a_decimal(numero))"
      ],
      "execution_count": null,
      "outputs": []
    },
    {
      "cell_type": "markdown",
      "metadata": {
        "id": "FyNpd5DPPln0"
      },
      "source": [
        "Ejercicio 4: Definir una función llamada separar() que tome una lista de\n",
        "números enteros y devuelva dos listas ordenadas de menor a mayor: la primera\n",
        "con los números pares y la segunda con los números impares."
      ]
    },
    {
      "cell_type": "code",
      "metadata": {
        "id": "Uj6RIAJSPmjo"
      },
      "source": [
        "#Definicion de la funcion separar\n",
        "def separar(lista_inicial,lista_pares,lista_impares):\n",
        "  if len(lista_inicial)>0:\n",
        "    for i in lista_inicial:\n",
        "      if i%2==0:\n",
        "        ingresa_ordenado(lista_pares,i)\n",
        "      else:\n",
        "        ingresa_ordenado(lista_impares,i)\n",
        "  else:\n",
        "    print(\"lista vacia\")\n",
        "\n",
        "\n",
        "#Definicion de funcion de ordenamiento\n",
        "def ingresa_ordenado(lista,elemento):\n",
        "  posicion=0\n",
        "  for i in range(len(lista)-1,-1,-1):\n",
        "    if elemento>=lista[i]:\n",
        "      posicion=i+1\n",
        "      break\n",
        "  lista.insert(posicion,elemento)\n",
        "\n",
        "    \n",
        "#Definicion de una funcion para el ingreso de la \n",
        "def ingresa_lista(lista):\n",
        "  i=0\n",
        "  while True:\n",
        "    print(\"Ingrese elemento \",i+1)\n",
        "    elemento=int(input())\n",
        "    lista.append(elemento)\n",
        "    print(\"¿Ingresar otro? S/N\")\n",
        "    respuesta=input()\n",
        "    if respuesta==\"N\":\n",
        "      break\n",
        "    i+=1\n",
        "\n",
        "\n",
        "#Implementacion de la funcion separar\n",
        "#Inicio de carga de lista\n",
        "print(\"Ingrese sus elementos\")\n",
        "lista=[]\n",
        "ingresa_lista(lista)\n",
        "#Fin de carga de la lista\n",
        "\n",
        "#Inicio de separacion de lista ingresada\n",
        "lista_pares=[]\n",
        "lista_impares=[]\n",
        "separar(lista,lista_pares,lista_impares)\n",
        "#Fin de separacion\n",
        "\n",
        "#Inicio del resultado del proceso\n",
        "print(\"lista ingresada: \", lista)\n",
        "print(\"lista de pares: \", lista_pares)\n",
        "print(\"lista de impares: \", lista_impares)\n",
        "#Fin del resultado del proceso"
      ],
      "execution_count": null,
      "outputs": []
    },
    {
      "cell_type": "markdown",
      "metadata": {
        "id": "GIZ02k0zPosT"
      },
      "source": [
        "Ejercicio 5: Definir una función que genere una cantidad finita de cadenas con\n",
        "números enteros que puedan servir como contraseñas, las cadenas tendrán\n",
        "una longitud definida. La longitud de la cadena será un valor pasado por\n",
        "defecto en 8."
      ]
    },
    {
      "cell_type": "code",
      "metadata": {
        "id": "lg9niMJqPpXO"
      },
      "source": [
        "\n",
        "#importacion de librerias necesarias\n",
        "import random\n",
        "\n",
        "#Definicion de la funcion\n",
        "def genera_contraseña(lista, cant_contraseña, cant_caracteres):\n",
        "  cadena_aux=\"0123466789\"\n",
        "  for i in range(cant_contraseña):\n",
        "    nueva_contraseña=\"\"\n",
        "    for j in range(cant_caracteres):\n",
        "      posicion=random.randrange(0,len(cadena_aux))\n",
        "      nueva_contraseña+=cadena_aux[posicion]\n",
        "    if nueva_contraseña[0]==\"0\":\n",
        "      posicion=random.randrange(1,len(cadena_aux))\n",
        "      nueva_contraseña[0]=cadena_aux[posicion]\n",
        "       \n",
        "    lista.append(int(nueva_contraseña))\n",
        "\n",
        "#Implememtacion de la funcion\n",
        "print(\"Ingrese cantidad de contraseñas a generar\")\n",
        "cantidad=int(input())\n",
        "lista=[]\n",
        "genera_contraseña(lista,cantidad,8)\n",
        "print(\"Lista de contraseñas generadas\")\n",
        "print(lista)"
      ],
      "execution_count": null,
      "outputs": []
    },
    {
      "cell_type": "markdown",
      "metadata": {
        "id": "EGMCRIRzPp-x"
      },
      "source": [
        "Ejercicio 6: Definir una función que concatena las cadenas que se reciba como\n",
        "parámetros no importa la cantidad de los mismos, de forma que devuelva una\n",
        "oración."
      ]
    },
    {
      "cell_type": "code",
      "metadata": {
        "id": "gcjEYbnnPqoc"
      },
      "source": [
        "#Definicion de la funcion\n",
        "def crea_oracion(*args):\n",
        "  oracion=\"\"\n",
        "  for i in args:\n",
        "    oracion+=i\n",
        "    oracion+=\" \"\n",
        "  return oracion[:-1:1]\n",
        "\n",
        "\n",
        "#Implementacion de la funcion\n",
        "print(crea_oracion(\"Solo\",\"se\",\"que\",\"no se\",\"nada\"))\n",
        "\n",
        "\n",
        "print(crea_oracion(\"Solo\",\"se\",\"necesita\",\"un memonto\",\"para destruir\",\"la historia entera\"))"
      ],
      "execution_count": null,
      "outputs": []
    },
    {
      "cell_type": "markdown",
      "metadata": {
        "id": "waL47dGwPrhN"
      },
      "source": [
        "Ejercicio 7: Definir una función que reciba un diccionario que contenga nombre\n",
        "completo y correo electrónico de una lista de personas, la cantidad de personas\n",
        "puede variar y debe mostrarse de forma ordenada."
      ]
    },
    {
      "cell_type": "code",
      "metadata": {
        "id": "laWMrQ8BPr_6"
      },
      "source": [
        "#definicion de la funcion\n",
        "def mostrar_diccionario(diccionario):\n",
        "  cant_k=len(diccionario)\n",
        "  if cant_k>0:\n",
        "    list_k=list(diccionario.keys())\n",
        "#    print(\"Lista recibida: \",list_k)\n",
        "    dicc_desord=diccionario.copy()\n",
        "    for k in range(cant_k):\n",
        "      menor_k=list_k[0]\n",
        "#      print(\"menor temporal: \", menor_k)\n",
        "      list_k=list_k[1::]\n",
        "#      print(\"lista sin menor: \", list_k)\n",
        "      cant=len(list_k)\n",
        "#      print(\"cantidad de claves no comparadas\", cant)\n",
        "      for i in range(cant):\n",
        "        otro=list_k[i]\n",
        "#        print(\"otro elegido\",otro)\n",
        "        if menor_k > otro:\n",
        "          list_k[i]=menor_k\n",
        "          menor_k=otro\n",
        "      print(menor_k,dicc_desord.pop(menor_k))\n",
        "\n",
        "\n",
        "dicc={\n",
        "  \"Nombre5\":\"correo5@ej.com\",\n",
        "  \"Nombre2\":\"correo2@ej.com\",\n",
        "  \"Nombre3\":\"correo3@ej.com\",\n",
        "  \"Nombre4\":\"correo4@ej.com\",\n",
        "  \"Nombre6\":\"correo6@ej.com\",\n",
        "  }\n",
        "mostrar_diccionario(dicc)\n",
        "#ordenar_diccionario(dicc)"
      ],
      "execution_count": null,
      "outputs": []
    },
    {
      "cell_type": "markdown",
      "metadata": {
        "id": "W_Hq8xjgPs0d"
      },
      "source": [
        "Ejercicio 8: Definir una función que reciba un parámetro por referencia y otra\n",
        "que sea un parámetro por valor."
      ]
    },
    {
      "cell_type": "code",
      "metadata": {
        "id": "6Mxpzv_xPtdi"
      },
      "source": [
        "#Definicion de las funciones\n",
        "#Parametro por valor\n",
        "def muestra_siguiente(valor):\n",
        "  print(\"el siguiente de valor es: \",valor+1)\n",
        "\n",
        "#Parametro por referencia\n",
        "def incrementa_y_muestra(valores):\n",
        "  for i in range(len(valores)):\n",
        "    valores[i]+=1\n",
        "  print(\"Lista modificada\")\n",
        "\n",
        "#Implementacion de las funciones\n",
        "valor=float(input(\"Ingrese un numero: \"))\n",
        "print(\"Valor de la variable antes de pasarlo por valor a la funcion: \",valor)\n",
        "muestra_siguiente(valor)\n",
        "print(\"Valor de la variable despues de pasarlo por valor a la funcion: \",valor)\n",
        "\n",
        "valores=[1,3,5,7,9]\n",
        "print(\"Valor de la variable antes de pasarlo por referencia a la funcion: \",valores)\n",
        "incrementa_y_muestra(valores)\n",
        "print(\"Valor de la variable despues de pasarlo por referencia a la funcion: \",valores)"
      ],
      "execution_count": null,
      "outputs": []
    }
  ]
}
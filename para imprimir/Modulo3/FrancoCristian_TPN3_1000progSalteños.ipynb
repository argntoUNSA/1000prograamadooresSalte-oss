{
  "nbformat": 4,
  "nbformat_minor": 0,
  "metadata": {
    "colab": {
      "name": "FrancoCrsitian-TPN3-1000progSalteños.ipynb",
      "provenance": [],
      "collapsed_sections": []
    },
    "kernelspec": {
      "name": "python3",
      "display_name": "Python 3"
    },
    "language_info": {
      "name": "python"
    }
  },
  "cells": [
    {
      "cell_type": "markdown",
      "metadata": {
        "id": "Cc2qlOBfD0z9"
      },
      "source": [
        "Ejercicio 1: Dados N números reales indicar cuántos positivos hay en la lista."
      ]
    },
    {
      "cell_type": "code",
      "metadata": {
        "id": "bfBGdpOHDt-E"
      },
      "source": [
        "cantidad_nro=int(input(\"Ingrese la cantidad de nros de la lista\"))\n",
        "cantidad_pos=0\n",
        "for i in range(cantidad_nro):\n",
        "  x=float(input(\"Ingrese nro:\"))\n",
        "  if(x>0):\n",
        "    cantidad_pos=cantidad_pos+1\n",
        "print(\"Hay \",cantidad_pos,\" positivos\")"
      ],
      "execution_count": null,
      "outputs": []
    },
    {
      "cell_type": "markdown",
      "metadata": {
        "id": "DXk7mLKOIIdV"
      },
      "source": [
        "Ejercicio 2: Escribir un algoritmo que almacene una cadena de texto que\n",
        "contenga una contraseña cualquiera. Luego debe ofrecer 3 intentos para el\n",
        "ingreso de una nueva cadena de texto. Cuando las contraseñas coincidan ya no\n",
        "se\n",
        "deberá\n",
        "solicitar\n",
        "más\n",
        "ingresos\n",
        "y se mostrará un mensaje diciendo\n",
        "“FELICITACIONES”.\n",
        "Además\n",
        "deberá\n",
        "mostrar\n",
        "un\n",
        "mensaje\n",
        "advirtiendo\n",
        "“CONTRASEÑA BLOQUEADA” si falló todos los intentos. Piensa bien en la\n",
        "condición o valores que pueden indicar esa situación."
      ]
    },
    {
      "cell_type": "code",
      "metadata": {
        "id": "SuScHjIBIMuf"
      },
      "source": [
        "admin=\"_1021\"\n",
        "print(\"Tiene 3 intentos\")\n",
        "i=0\n",
        "bandera=0\n",
        "while(i<3) & (bandera==0):\n",
        "  frase=input(\"Ingrese contraseña: \")\n",
        "  if(frase==admin):\n",
        "    bandera=1\n",
        "    print(\"Contraseña correcta\")\n",
        "    print(\"¡¡¡¡¡¡¡FELICITACIONES!!!!!!!!\")\n",
        "  else:\n",
        "    i=i+1\n",
        "    print(\"Contraseña incorrecta\")\n",
        "    if(i<3):\n",
        "      print(f\"Intente nuevamente\")\n",
        "      print(\"Quedan \",(3-i),\" intentos\")\n",
        "    \n",
        "if(bandera==0):\n",
        "  print(\"CONTRASEÑA BLOQUEADA\")\n"
      ],
      "execution_count": null,
      "outputs": []
    },
    {
      "cell_type": "markdown",
      "metadata": {
        "id": "yol4UvHvNUy_"
      },
      "source": [
        "Ejercicio 3: Introducir una cadena de caracteres e indicar si es un palíndromo.\n",
        "Una palabra palíndroma es aquella que se lee igual de izquierda a derecha y de\n",
        "derecha a izquierda."
      ]
    },
    {
      "cell_type": "code",
      "metadata": {
        "id": "PcuhR530NZXu"
      },
      "source": [
        "cadena=input(\"Ingrese su palabra: \")\n",
        "N = len(cadena)\n",
        "if(N>0):\n",
        "  espejo = ''.join(reversed(cadena))\n",
        "  \n",
        "  posicion = 0\n",
        "  bandera = 0\n",
        "  while(posicion<N) & (bandera==0):\n",
        "    if(cadena[posicion] != espejo[posicion]):\n",
        "      bandera=1\n",
        "      print(\"No es un palindromo\")\n",
        "    else:\n",
        "      posicion = posicion + 1\n",
        "  if(posicion >= N):\n",
        "    print(\"Es un palindromo\")\n",
        "else:\n",
        "  print(\"Ingreso una palabra vacia\")"
      ],
      "execution_count": null,
      "outputs": []
    },
    {
      "cell_type": "markdown",
      "metadata": {
        "id": "9dPfbmepv5Nj"
      },
      "source": [
        "Ejercicio 4: Escribir un programa que almacene las asignaturas de un curso (por\n",
        "ejemplo Matemáticas, Física, Química, Historia y Lengua) en una lista, pregunte\n",
        "al usuario la nota que ha sacado en cada asignatura, y después mostrar por\n",
        "pantalla con el mensaje: \"En la <asignatura> saco <nota>\" donde <asignatura>\n",
        "es la asignatura correspondiente y <nota> es la nota correspondiente a la\n",
        "asignatura."
      ]
    },
    {
      "cell_type": "code",
      "metadata": {
        "id": "WRQz_Dj5Jw6w"
      },
      "source": [
        "cant_asignatura = int(input(\"Ingrese la cantidad de asignaturas: \"))\n",
        "if(cant_asignatura > 0):\n",
        "  lista_asignatura=[]\n",
        "  lista_notas=[]\n",
        "  for i in range(cant_asignatura):\n",
        "    print(\"Ingrese asignatura \",(i+1),\": \")\n",
        "    asignatura=input()\n",
        "    lista_asignatura.append(asignatura)\n",
        "    print(\"Ingrese nota de la asignatura \",(i+1),\": \")\n",
        "    nota=int(input())\n",
        "    lista_notas.append(nota)\n",
        "  for i in range(cant_asignatura):\n",
        "    print(\"En \",lista_asignatura[i])\n",
        "    print(\"saco \",lista_notas[i])  "
      ],
      "execution_count": null,
      "outputs": []
    },
    {
      "cell_type": "markdown",
      "metadata": {
        "id": "4SBLdsgqwmwU"
      },
      "source": [
        "Ejercicio 5: Los alumnos de un curso se han dividido en dos grupos A y B de\n",
        "acuerdo al sexo y el nombre. El grupo A está formado por las mujeres con un\n",
        "nombre anterior a la M y los hombres con un nombre posterior a la N y el grupo\n",
        "B por el resto. Escribir un programa que pregunte al usuario su nombre y sexo, y\n",
        "muestre por pantalla el grupo que le corresponde."
      ]
    },
    {
      "cell_type": "code",
      "metadata": {
        "id": "k8PWvYUmxwwS",
        "colab": {
          "base_uri": "https://localhost:8080/"
        },
        "outputId": "47025c85-dbb3-43df-9549-e26f3666fe20"
      },
      "source": [
        "nombre=input(\"¿Cual es su nombre?: \")\n",
        "sexo=input(\"¿Cual es su sexo?(M o F): \")\n",
        "if(len(nombre)>0) & (len(sexo)>0):\n",
        "  nombre.upper()\n",
        "  sexo.upper()\n",
        "  if(sexo[0]=='F'):\n",
        "    if(nombre[0]<'M'):\n",
        "      print(\"Pertenece al grupo A\")\n",
        "    else:\n",
        "      print(\"Pertenece al grupo B\")\n",
        "  elif (nombre[0]>'N'):\n",
        "    print(\"Pertenece al grupo A\")\n",
        "  else:\n",
        "      print(\"Pertenece al grupo B\")\n"
      ],
      "execution_count": null,
      "outputs": [
        {
          "output_type": "stream",
          "name": "stdout",
          "text": [
            "¿Cual es su nombre?: Omar\n",
            "¿Cual es su sexo?(M o F): M\n",
            "Pertenece al grupo A\n"
          ]
        }
      ]
    },
    {
      "cell_type": "markdown",
      "metadata": {
        "id": "b32c84LLxgLp"
      },
      "source": [
        "Ejercicio 6: Un local de comida rápida ('ML') conocido de la ciudad ofrece\n",
        "hamburguesas vegetarianas y no vegetarianas a sus clientes. Los ingredientes\n",
        "para cada tipo aparecen a continuación:\n",
        "\n",
        "●\n",
        "Ingredientes vegetarianos: calabaza - soja\n",
        "\n",
        "●\n",
        "Ingredientes no vegetarianos: carne vacuna - carne de pollo\n",
        "\n",
        "Escribir un programa que pregunte al usuario si quiere una hamburguesa\n",
        "vegetariana o no, y en función de su respuesta le muestre un menú con los\n",
        "ingredientes disponibles para que elija. Solo se puede elegir un ingrediente\n",
        "además de la lechuga, queso y el tomate que están en todas las hamburguesas.\n",
        "Al final se debe mostrar por pantalla si la hamburguesa elegida es vegetariana o\n",
        "no y todos los ingredientes que lleva."
      ]
    },
    {
      "cell_type": "code",
      "metadata": {
        "id": "ekgpCFnBxyVf"
      },
      "source": [
        "def pregunta_ingredientes(ingrediente):\n",
        "  print(\"¿Quiere \",ingrediente,\"?\")\n",
        "  print(\"0 - SI\")\n",
        "  print(\"1 - NO\")\n",
        "  respuesta=int(input())\n",
        "  return respuesta\n",
        "\n",
        "\n",
        "print(\"Bienvenidos a ML. Elija lo  mejor, elijanos\")\n",
        "print()\n",
        "ingredientes=[]\n",
        "ingredientes.append(pregunta_ingredientes(\"Hamburguesa vegetariana\" ))\n",
        "print()\n",
        "\n",
        "print(\"¿Cual es su ingrerdiente princcipal?\")\n",
        "print(\"Elija solo uno\")\n",
        "if(ingredientes[0]==0):\n",
        "  ingredientes[0]=\"VEGETARIANA\"\n",
        "  print(\"0 - Calabaza\")\n",
        "  print(\"1 - Soja\")\n",
        "  respuesta=int(input())\n",
        "  if respuesta==0:\n",
        "    ingredientes.append(\"CALABAZA\")\n",
        "  else:\n",
        "    ingredientes.append(\"SOJA\")\n",
        "else:\n",
        "  ingredientes[0]=\"NO VEGETARIANA\"\n",
        "  print(\"0 - Carne vacuna\")\n",
        "  print(\"1 - Carne de pollo\")\n",
        "  respuesta=int(input())\n",
        "  if(respuesta==0):\n",
        "    ingredientes.append(\"VACUNA\")\n",
        "  else:\n",
        "    ingredientes.append(\"DE POLLO\")\n",
        "print()\n",
        "\n",
        "print(\"Elija sus ingredientes secundarios\")\n",
        "if(pregunta_ingredientes(\"Lechuga\")==0):\n",
        "  ingredientes.append(\"LECHUGA\")\n",
        "else:\n",
        "  ingredientes.append(\"NO\")\n",
        "print()\n",
        "\n",
        "if(pregunta_ingredientes(\"Queso\")==0):\n",
        "  ingredientes.append(\"QUESO\")\n",
        "else:\n",
        "  ingredientes.append(\"NO\")\n",
        "print()\n",
        "\n",
        "if(pregunta_ingredientes(\"Tomate\")==0):\n",
        "  ingredientes.append(\"TOMATE\")\n",
        "else:\n",
        "  ingredientes.append(\"NO\")\n",
        "print()\n",
        "\n",
        "print(\"Menu elegido con exito\")\n",
        "print(\"Se listan los ingredientes en su hamburguesa \",ingredientes[0])\n",
        "print()\n",
        "print(\"Ingredente pricipal: \", ingredientes[1])\n",
        "print()\n",
        "print(\"Ingredentes secundarios: \")\n",
        "for i in range(2,5):\n",
        "  print(\"* \")\n",
        "  if(ingredientes[i]!=\"NO\"):\n",
        "    print(ingredientes[i])\n",
        "  else:\n",
        "    print(\" --- \")\n",
        "print()\n",
        "print(\"Gracias por su compra\")"
      ],
      "execution_count": null,
      "outputs": []
    }
  ]
}
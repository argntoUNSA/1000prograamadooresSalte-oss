{
  "nbformat": 4,
  "nbformat_minor": 0,
  "metadata": {
    "colab": {
      "name": "FrancoCristianOscar-Simulacro-Parcial.ipynb",
      "provenance": [],
      "collapsed_sections": []
    },
    "kernelspec": {
      "name": "python3",
      "display_name": "Python 3"
    },
    "language_info": {
      "name": "python"
    }
  },
  "cells": [
    {
      "cell_type": "code",
      "execution_count": 9,
      "metadata": {
        "colab": {
          "base_uri": "https://localhost:8080/"
        },
        "id": "3JV9kH_asSeg",
        "outputId": "6b42d49b-ce73-4ae0-9f2c-ec4315a84eb5"
      },
      "outputs": [
        {
          "output_type": "stream",
          "name": "stdout",
          "text": [
            "Ingrese una lista de palabras\n",
            "¿Cuantas palabras ingresara?: asdlajs\n",
            "Ingrese un nro entero\n",
            "Ingrese una lista de palabras\n",
            "¿Cuantas palabras ingresara?: 3\n",
            "Ingrese la palabra: ..067.58.465.6\n",
            "Ingrese la palabra: \n",
            "Ingrese la palabra: \n",
            "\n",
            "Lista ingresada por el usuario:  ['..067.58.465.6', '', '']\n",
            "\n",
            "Cantidad de palabras que cumplen la condicion:  0\n",
            "\n",
            "Lista de palabras que cumplen la condicion []\n"
          ]
        }
      ],
      "source": [
        "#Definicion de la funcions que determina si la ultima letra de una palabra es una vocal\n",
        "def termina_vocal(palabra):\n",
        "  if len(palabra)>0 and palabra.upper()[-1] in (\"A\",\"E\",\"I\",\"O\",\"U\"):\n",
        "    return True\n",
        "  else:\n",
        "    return False\n",
        "\n",
        "#Creacion del programa e implementacion de la funcion termina_vocal\n",
        "print(\"Ingrese una lista de palabras\")\n",
        "while True:\n",
        "  try:\n",
        "    cantidad=int(input(\"¿Cuantas palabras ingresara?: \"))\n",
        "    break\n",
        "  except:\n",
        "    print(\"Ingrese un nro entero, intente de nuevo\")\n",
        "\n",
        "#En esta lista se almacenaran las palabras que ingrese el usuario para un futuro uso\n",
        "lista_1=[]\n",
        "#En esta lista se almacenaran las palabras ingresadas por  el usuario que terminen en unba vocal\n",
        "lista_2=[]\n",
        "#Esta variable controla cuantas palabras cumplen la condicion\n",
        "contador=0\n",
        "#A medida que ingresa las palabras se evalua la condicion dada en el inciso.\n",
        "\n",
        "for i in range(cantidad):\n",
        "  nueva_palabra=input(\"Ingrese la palabra: \")\n",
        "  if termina_vocal(nueva_palabra):\n",
        "    contador+=1\n",
        "    lista_2.append(nueva_palabra)\n",
        "  lista_1.append(nueva_palabra)\n",
        "\n",
        "\n",
        "print(\"\\nLista ingresada por el usuario: \",lista_1[::])\n",
        "print(\"\\nCantidad de palabras que cumplen la condicion: \",contador)\n",
        "print(\"\\nLista de palabras que cumplen la condicion\",lista_2[::])\n"
      ]
    }
  ]
}